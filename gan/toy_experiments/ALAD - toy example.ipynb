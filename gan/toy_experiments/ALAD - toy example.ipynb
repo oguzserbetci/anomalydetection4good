{
 "cells": [
  {
   "cell_type": "markdown",
   "metadata": {},
   "source": [
    "# ALAD - Toy examples"
   ]
  },
  {
   "cell_type": "markdown",
   "metadata": {},
   "source": [
    "This is the notebook that generated Figure 2 in \"Adversarially learnt anomaly detection\"\n",
    "Credits : https://github.com/ChunyuanLI/ALICE"
   ]
  },
  {
   "cell_type": "markdown",
   "metadata": {},
   "source": [
    "### Imports"
   ]
  },
  {
   "cell_type": "code",
   "execution_count": 142,
   "metadata": {
    "collapsed": true
   },
   "outputs": [],
   "source": [
    "%matplotlib inline\n",
    "\n",
    "import os\n",
    "import pdb"
   ]
  },
  {
   "cell_type": "code",
   "execution_count": 143,
   "metadata": {},
   "outputs": [],
   "source": [
    "import numpy as np\n",
    "import matplotlib.pyplot as plt\n",
    "import matplotlib.cm as cm\n",
    "import tensorflow as tf\n",
    "from utils.data_gmm import GMM_distribution, sample_GMM, plot_GMM\n",
    "from utils.data_utils import shuffle, iter_data, ToyDataset\n",
    "from tqdm import tqdm\n",
    "import sklearn.datasets\n",
    "\n",
    "slim = tf.contrib.slim\n",
    "ds = tf.contrib.distributions\n",
    "graph_replace = tf.contrib.graph_editor.graph_replace"
   ]
  },
  {
   "cell_type": "markdown",
   "metadata": {},
   "source": [
    "### Parameters"
   ]
  },
  {
   "cell_type": "code",
   "execution_count": 144,
   "metadata": {
    "collapsed": true
   },
   "outputs": [],
   "source": [
    "DATASET = '4gaussians' # 5gaussians, swiss_roll, s_curve\n",
    "N_NOISY = 100"
   ]
  },
  {
   "cell_type": "code",
   "execution_count": 145,
   "metadata": {
    "collapsed": true
   },
   "outputs": [],
   "source": [
    "\"\"\" parameters \"\"\"\n",
    "n_epoch = 300\n",
    "batch_size  = 1024\n",
    "dataset_size_x = 512*4\n",
    "dataset_size_z = 512*4\n",
    "\n",
    "dataset_size_x_test = 512*2\n",
    "dataset_size_z_test = 512*2\n",
    "\n",
    "input_dim = 2\n",
    "latent_dim = 2\n",
    "eps_dim = 2\n",
    "\n",
    "n_layer_disc  = 2\n",
    "n_hidden_disc = 256\n",
    "n_layer_gen   = 3\n",
    "n_hidden_gen  = 256\n",
    "n_layer_inf   = 2\n",
    "n_hidden_inf  = 256"
   ]
  },
  {
   "cell_type": "code",
   "execution_count": 146,
   "metadata": {
    "collapsed": true
   },
   "outputs": [],
   "source": [
    "\"\"\" Create directory for results \"\"\"\n",
    "result_dir = 'results/alad_toy/'\n",
    "directory = result_dir\n",
    "if not os.path.exists(directory):\n",
    "    os.makedirs(directory)"
   ]
  },
  {
   "cell_type": "markdown",
   "metadata": {},
   "source": [
    "## Training dataset"
   ]
  },
  {
   "cell_type": "markdown",
   "metadata": {},
   "source": [
    "#### 4 or 5 GMM"
   ]
  },
  {
   "cell_type": "code",
   "execution_count": 147,
   "metadata": {
    "collapsed": true
   },
   "outputs": [],
   "source": [
    "\"\"\" Create dataset \"\"\"\n",
    "\n",
    "def four_five_gaussians(p1=0):\n",
    "    # create X dataset\n",
    "    global dataset_size_x\n",
    "    means_x = map(lambda x:  np.array(x), [[2, 2],\n",
    "                                          [-2, -2],\n",
    "                                          [2, -2],\n",
    "                                          [-2, 2],\n",
    "                                           [0, 0]])\n",
    "    \n",
    "    means_x = list(means_x)\n",
    "    std_x = 0.02\n",
    "    variances_x = [np.eye(2) * std_x for _ in means_x]\n",
    "\n",
    "    #contamination = 4.0*p/(1-p)\n",
    "    priors_x = np.array([1.0, 1.0, 1.0, 1.0, p1])\n",
    "    priors_x /= sum(priors_x)\n",
    "    #print(priors_x)\n",
    "    gaussian_mixture = GMM_distribution(means=means_x,\n",
    "                                                   variances=variances_x,\n",
    "                                                   priors=priors_x)\n",
    "    dataset_x = sample_GMM(dataset_size_x, means_x, variances_x, priors_x, sources=('features', ))\n",
    "    return dataset_x"
   ]
  },
  {
   "cell_type": "markdown",
   "metadata": {},
   "source": [
    "You can control the level of the fifth gaussian in the training set with the $p$ parameter"
   ]
  },
  {
   "cell_type": "markdown",
   "metadata": {},
   "source": [
    "Generate training dataset"
   ]
  },
  {
   "cell_type": "code",
   "execution_count": 148,
   "metadata": {
    "collapsed": true
   },
   "outputs": [],
   "source": [
    "dataset_x = four_five_gaussians(p1=0)\n",
    "save_path_x = result_dir + 'X_4gmm_data_train.png'\n"
   ]
  },
  {
   "cell_type": "code",
   "execution_count": 149,
   "metadata": {},
   "outputs": [
    {
     "data": {
      "image/png": "[encoded data removed]",
      "text/plain": [
       "<Figure size 324x324 with 1 Axes>"
      ]
     },
     "metadata": {},
     "output_type": "display_data"
    }
   ],
   "source": [
    "## input x\n",
    "X_dataset  = dataset_x.data['samples']\n",
    "X_targets = dataset_x.data['label']\n",
    "\n",
    "fig_mx, ax = plt.subplots(nrows=1, ncols=1, figsize=(4.5, 4.5))\n",
    "ax.scatter(X_dataset[:, 0], X_dataset[:, 1], c=cm.tab20(X_targets.astype(float)/input_dim/3.0),\n",
    "           edgecolor='none', alpha=0.5)\n",
    "#ax.set_xlim(-3, 3); ax.set_ylim(-3.5, 3.5)\n",
    "ax.set_xlabel('$x_1$'); ax.set_ylabel('$x_2$')\n",
    "ax.set_title(\"X distribution in the training set\" )\n",
    "ax.axis('on')\n",
    "plt.savefig(save_path_x, transparent=True, bbox_inches='tight')\n",
    "plt.show()"
   ]
  },
  {
   "cell_type": "code",
   "execution_count": 150,
   "metadata": {},
   "outputs": [
    {
     "data": {
      "image/png": "[encoded data removed]",
      "text/plain": [
       "<Figure size 324x324 with 1 Axes>"
      ]
     },
     "metadata": {},
     "output_type": "display_data"
    }
   ],
   "source": [
    "# create Z dataset\n",
    "means_z = map(lambda x:  np.array(x), [[0, 0]])\n",
    "means_z = list(means_z)\n",
    "std_z = 1.0\n",
    "variances_z = [np.eye(2) * std_z for _ in means_z]\n",
    "priors_z = [1.0/len(means_z) for _ in means_z]\n",
    "\n",
    "dataset_z = sample_GMM(dataset_size_z, means_z, variances_z, priors_z, sources=('features', ))\n",
    "save_path_z = result_dir + 'Z_gmm_data_train.png'\n",
    "\n",
    "##  input z\n",
    "Z_dataset = dataset_z.data['samples']\n",
    "Z_labels  = dataset_z.data['label']\n",
    "\n",
    "fig_mx, ax = plt.subplots(nrows=1, ncols=1, figsize=(4.5, 4.5))\n",
    "ax.scatter(Z_dataset[:, 0], Z_dataset[:, 1],\n",
    "           edgecolor='none', alpha=0.5)\n",
    "ax.set_xlim(-3, 3); ax.set_ylim(-3.5, 3.5)\n",
    "ax.set_xlabel('$z_1$'); ax.set_ylabel('$z_2$')\n",
    "ax.set_title(\"Z distribution in the training set\")\n",
    "ax.axis('on')\n",
    "plt.savefig(save_path_z, transparent=True, bbox_inches='tight')\n",
    "plt.show()"
   ]
  },
  {
   "cell_type": "markdown",
   "metadata": {},
   "source": [
    "## Network"
   ]
  },
  {
   "cell_type": "code",
   "execution_count": 151,
   "metadata": {
    "collapsed": true
   },
   "outputs": [],
   "source": [
    "\"\"\" Networks \"\"\"\n",
    "\n",
    "def generative_network(z, input_dim, n_layer, n_hidden, eps_dim, reuse=False):\n",
    "    with tf.variable_scope(\"generative\", reuse=reuse):\n",
    "        h = slim.stack(z, slim.fully_connected, [n_hidden] * n_layer, activation_fn=tf.nn.relu)\n",
    "        x = slim.fully_connected(h, input_dim, activation_fn=None)\n",
    "    return x\n",
    "\n",
    "\n",
    "def inference_network(x, latent_dim, n_layer, n_hidden, eps_dim, reuse=False):\n",
    "    with tf.variable_scope(\"inference\", reuse=reuse):\n",
    "        h = slim.stack(x, slim.fully_connected, [n_hidden] * n_layer, activation_fn=tf.nn.relu)\n",
    "        z = slim.fully_connected(h, latent_dim, activation_fn=None)      \n",
    "    return z\n",
    "\n",
    "def data_network_xz(x, z, n_layers=2, n_hidden=128, activation_fn=None,reuse=False):\n",
    "    \"\"\"Approximate x log data density.\"\"\"\n",
    "    h = tf.concat([x,z], 1)\n",
    "    with tf.variable_scope('discriminator', reuse=reuse):\n",
    "        h = slim.stack(h, slim.fully_connected, [n_hidden] * n_layers, activation_fn=tf.nn.relu)\n",
    "        log_d = slim.fully_connected(h, 1, activation_fn=None)\n",
    "    return tf.squeeze(log_d, squeeze_dims=[1])\n",
    "\n",
    "def data_network_xx(x,x_hat, n_layers=1, n_hidden=128, activation_fn=None, reuse=False):\n",
    "    \"\"\"Approximate x log data density.\"\"\"\n",
    "    # pdb.set_trace()\n",
    "    h = tf.concat([x,x_hat], 1)\n",
    "    with tf.variable_scope('discriminator_xx', reuse=reuse):\n",
    "        h = slim.stack(h, slim.fully_connected, [n_hidden] * n_layers, activation_fn=tf.nn.relu)\n",
    "        log_d = slim.fully_connected(h, 1, activation_fn=activation_fn)\n",
    "    return tf.squeeze(log_d, squeeze_dims=[1])\n",
    "\n",
    "def data_network_zz(z, z_prime, n_layers=1, n_hidden=128, activation_fn=None, reuse=False):\n",
    "    \"\"\"Approximate x log data density.\"\"\"\n",
    "    # pdb.set_trace()\n",
    "    h = tf.concat([z, z_prime], 1)\n",
    "    with tf.variable_scope('discriminator_zz', reuse=reuse):\n",
    "        h = slim.stack(h, slim.fully_connected, [n_hidden] * n_layers, activation_fn=tf.nn.relu)\n",
    "        log_d = slim.fully_connected(h, 1, activation_fn=activation_fn)\n",
    "    return tf.squeeze(log_d, squeeze_dims=[1])"
   ]
  },
  {
   "cell_type": "code",
   "execution_count": 152,
   "metadata": {},
   "outputs": [],
   "source": [
    "\"\"\" Construct model and training ops \"\"\"\n",
    "tf.reset_default_graph()\n",
    "\n",
    "x = tf.placeholder(tf.float32, shape=(None, input_dim))\n",
    "z = tf.placeholder(tf.float32, shape=(None, latent_dim))\n",
    "\n",
    "# decoder and encoder\n",
    "p_x = generative_network(z, input_dim , n_layer_gen, n_hidden_gen, eps_dim)\n",
    "q_z = inference_network(x, latent_dim, n_layer_inf, n_hidden_inf, eps_dim)\n",
    "\n",
    "decoder_logit = data_network_xz(p_x, z, n_layers=n_layer_disc, n_hidden=n_hidden_disc)\n",
    "encoder_logit = graph_replace(decoder_logit, {p_x: x, z:q_z})\n",
    "\n",
    "decoder_loss = tf.nn.sigmoid_cross_entropy_with_logits(labels = tf.zeros_like(decoder_logit), logits=decoder_logit)\n",
    "encoder_loss = tf.nn.sigmoid_cross_entropy_with_logits(labels = tf.ones_like(encoder_logit), logits=encoder_logit)\n",
    "\n",
    "dis_loss_xz = tf.reduce_mean(encoder_loss) + tf.reduce_mean(decoder_loss)\n",
    "\n",
    "rec_z = inference_network(p_x, latent_dim, n_layer_inf, n_hidden_inf, eps_dim, reuse=True)\n",
    "rec_x = generative_network(q_z, input_dim , n_layer_gen, n_hidden_gen,  eps_dim, reuse=True)\n",
    "\n",
    "x_logit_real = data_network_xx(x, x)\n",
    "x_logit_fake = data_network_xx(x, rec_x, reuse=True)\n",
    "z_logit_real = data_network_zz(z, z)\n",
    "z_logit_fake = data_network_zz(z, rec_z,  reuse=True)\n",
    "\n",
    "x_sigmoid_real = tf.nn.sigmoid_cross_entropy_with_logits(logits=x_logit_real, labels=tf.ones_like(x_logit_real))\n",
    "x_sigmoid_fake = tf.nn.sigmoid_cross_entropy_with_logits(logits=x_logit_fake, labels=tf.zeros_like(x_logit_fake))\n",
    "\n",
    "z_sigmoid_real = tf.nn.sigmoid_cross_entropy_with_logits(logits=z_logit_real, labels=tf.ones_like(z_logit_real))\n",
    "z_sigmoid_fake = tf.nn.sigmoid_cross_entropy_with_logits(logits=z_logit_fake, labels=tf.zeros_like(z_logit_fake))\n",
    "\n",
    "x_sigmoid_real2 = tf.nn.sigmoid_cross_entropy_with_logits(logits=x_logit_real, labels=tf.zeros_like(x_logit_real))\n",
    "x_sigmoid_fake2 = tf.nn.sigmoid_cross_entropy_with_logits(logits=x_logit_fake, labels=tf.ones_like(x_logit_fake))\n",
    "\n",
    "z_sigmoid_real2 = tf.nn.sigmoid_cross_entropy_with_logits(logits=z_logit_real, labels=tf.zeros_like(z_logit_real))\n",
    "z_sigmoid_fake2 = tf.nn.sigmoid_cross_entropy_with_logits(logits=z_logit_fake, labels=tf.ones_like(z_logit_fake))\n",
    "\n",
    "\n",
    "dis_loss_x = tf.reduce_mean(x_sigmoid_real + x_sigmoid_fake)\n",
    "dis_loss_z = tf.reduce_mean(z_sigmoid_real + z_sigmoid_fake)\n",
    "disc_loss = dis_loss_xz + dis_loss_x + dis_loss_z\n",
    "\n",
    "cost_x = tf.reduce_mean(x_sigmoid_real2 + x_sigmoid_fake2) # + tf.reduce_mean(tf.pow(x_feature_real - x_feature_fake, 2))\n",
    "cost_z = tf.reduce_mean(z_sigmoid_real2 + z_sigmoid_fake2) # + tf.reduce_mean(tf.pow(z_feature_real - z_feature_fake, 2))\n",
    "\n",
    "\n",
    "decoder_loss2 = tf.nn.sigmoid_cross_entropy_with_logits(labels = tf.ones_like(decoder_logit), logits=decoder_logit)\n",
    "encoder_loss2 = tf.nn.sigmoid_cross_entropy_with_logits(labels = tf.zeros_like(encoder_logit), logits=encoder_logit)\n",
    "\n",
    "gen_loss_xz = tf.reduce_mean(decoder_loss2)  + tf.reduce_mean(encoder_loss2)\n",
    "\n",
    "gen_loss = gen_loss_xz + cost_x  + cost_z\n",
    "\n",
    "qvars = tf.get_collection(tf.GraphKeys.TRAINABLE_VARIABLES, \"inference\")\n",
    "pvars = tf.get_collection(tf.GraphKeys.TRAINABLE_VARIABLES, \"generative\")\n",
    "dvars = tf.get_collection(tf.GraphKeys.TRAINABLE_VARIABLES, \"discriminator\")\n",
    "dvars_xx = tf.get_collection(tf.GraphKeys.TRAINABLE_VARIABLES, \"discriminator_xx\")\n",
    "dvars_zz = tf.get_collection(tf.GraphKeys.TRAINABLE_VARIABLES, \"discriminator_zz\")\n",
    "\n",
    "opt = tf.train.AdamOptimizer(1e-3, beta1=0.5)\n",
    "train_gen_op =  opt.minimize(gen_loss, var_list=qvars + pvars)\n",
    "train_disc_op = opt.minimize(disc_loss, var_list=dvars + dvars_xx)\n",
    "\n",
    "mahalanobis_dis_z = tf.norm(q_z, ord=2, axis=1, keep_dims=False, name='z_scores')"
   ]
  },
  {
   "cell_type": "markdown",
   "metadata": {},
   "source": [
    "## Training"
   ]
  },
  {
   "cell_type": "code",
   "execution_count": 112,
   "metadata": {
    "scrolled": true
   },
   "outputs": [
    {
     "name": "stderr",
     "output_type": "stream",
     "text": [
      "  0%|          | 1/300 [00:02<12:51,  2.58s/it]"
     ]
    },
    {
     "name": "stdout",
     "output_type": "stream",
     "text": [
      "epoch 0 iter 2: discloss 4.335891 genloss 3.421293 adv_x 1.172381 recons_x 1.135755 \n"
     ]
    },
    {
     "name": "stderr",
     "output_type": "stream",
     "text": [
      "\r",
      "  1%|          | 2/300 [00:04<11:10,  2.25s/it]"
     ]
    },
    {
     "name": "stdout",
     "output_type": "stream",
     "text": [
      "epoch 1 iter 2: discloss 5.703974 genloss 4.153392 adv_x 1.318510 recons_x 1.586031 \n"
     ]
    },
    {
     "name": "stderr",
     "output_type": "stream",
     "text": [
      "\r",
      "  1%|          | 3/300 [00:05<10:12,  2.06s/it]"
     ]
    },
    {
     "name": "stdout",
     "output_type": "stream",
     "text": [
      "epoch 2 iter 2: discloss 5.123941 genloss 4.300347 adv_x 1.324444 recons_x 1.636631 \n"
     ]
    },
    {
     "name": "stderr",
     "output_type": "stream",
     "text": [
      "\r",
      "  1%|▏         | 4/300 [00:07<09:24,  1.91s/it]"
     ]
    },
    {
     "name": "stdout",
     "output_type": "stream",
     "text": [
      "epoch 3 iter 2: discloss 4.242617 genloss 4.444621 adv_x 1.412797 recons_x 1.682189 \n"
     ]
    },
    {
     "name": "stderr",
     "output_type": "stream",
     "text": [
      "\r",
      "  2%|▏         | 5/300 [00:08<08:47,  1.79s/it]"
     ]
    },
    {
     "name": "stdout",
     "output_type": "stream",
     "text": [
      "epoch 4 iter 2: discloss 4.347875 genloss 4.314517 adv_x 1.253841 recons_x 1.680524 \n"
     ]
    },
    {
     "name": "stderr",
     "output_type": "stream",
     "text": [
      "\r",
      "  2%|▏         | 6/300 [00:10<08:09,  1.67s/it]"
     ]
    },
    {
     "name": "stdout",
     "output_type": "stream",
     "text": [
      "epoch 5 iter 2: discloss 6.285276 genloss 4.554699 adv_x 1.538148 recons_x 1.598951 \n"
     ]
    },
    {
     "name": "stderr",
     "output_type": "stream",
     "text": [
      "\r",
      "  2%|▏         | 7/300 [00:11<07:41,  1.58s/it]"
     ]
    },
    {
     "name": "stdout",
     "output_type": "stream",
     "text": [
      "epoch 6 iter 2: discloss 4.448169 genloss 3.946428 adv_x 1.307832 recons_x 1.172231 \n"
     ]
    },
    {
     "name": "stderr",
     "output_type": "stream",
     "text": [
      "\r",
      "  3%|▎         | 8/300 [00:12<07:19,  1.51s/it]"
     ]
    },
    {
     "name": "stdout",
     "output_type": "stream",
     "text": [
      "epoch 7 iter 2: discloss 4.338625 genloss 4.123456 adv_x 1.048390 recons_x 1.635413 \n"
     ]
    },
    {
     "name": "stderr",
     "output_type": "stream",
     "text": [
      "\r",
      "  3%|▎         | 9/300 [00:14<07:03,  1.45s/it]"
     ]
    },
    {
     "name": "stdout",
     "output_type": "stream",
     "text": [
      "epoch 8 iter 2: discloss 4.750826 genloss 4.147830 adv_x 1.091991 recons_x 1.574723 \n"
     ]
    },
    {
     "name": "stderr",
     "output_type": "stream",
     "text": [
      "\r",
      "  3%|▎         | 10/300 [00:15<07:17,  1.51s/it]"
     ]
    },
    {
     "name": "stdout",
     "output_type": "stream",
     "text": [
      "epoch 9 iter 2: discloss 4.331019 genloss 4.057428 adv_x 1.187325 recons_x 1.464499 \n"
     ]
    },
    {
     "name": "stderr",
     "output_type": "stream",
     "text": [
      "\r",
      "  4%|▎         | 11/300 [00:17<07:32,  1.57s/it]"
     ]
    },
    {
     "name": "stdout",
     "output_type": "stream",
     "text": [
      "epoch 10 iter 2: discloss 4.822272 genloss 4.114429 adv_x 1.072211 recons_x 1.617397 \n"
     ]
    },
    {
     "name": "stderr",
     "output_type": "stream",
     "text": [
      "\r",
      "  4%|▍         | 12/300 [00:19<07:39,  1.60s/it]"
     ]
    },
    {
     "name": "stdout",
     "output_type": "stream",
     "text": [
      "epoch 11 iter 2: discloss 4.535330 genloss 4.188826 adv_x 1.185474 recons_x 1.580822 \n"
     ]
    },
    {
     "name": "stderr",
     "output_type": "stream",
     "text": [
      "\r",
      "  4%|▍         | 13/300 [00:20<07:39,  1.60s/it]"
     ]
    },
    {
     "name": "stdout",
     "output_type": "stream",
     "text": [
      "epoch 12 iter 2: discloss 4.089311 genloss 4.263366 adv_x 1.439592 recons_x 1.432505 \n"
     ]
    },
    {
     "name": "stderr",
     "output_type": "stream",
     "text": [
      "\r",
      "  5%|▍         | 14/300 [00:22<07:30,  1.57s/it]"
     ]
    },
    {
     "name": "stdout",
     "output_type": "stream",
     "text": [
      "epoch 13 iter 2: discloss 4.447261 genloss 4.020738 adv_x 1.176610 recons_x 1.445300 \n"
     ]
    },
    {
     "name": "stderr",
     "output_type": "stream",
     "text": [
      "\r",
      "  5%|▌         | 15/300 [00:23<07:24,  1.56s/it]"
     ]
    },
    {
     "name": "stdout",
     "output_type": "stream",
     "text": [
      "epoch 14 iter 2: discloss 4.305418 genloss 4.225264 adv_x 1.401178 recons_x 1.432410 \n"
     ]
    },
    {
     "name": "stderr",
     "output_type": "stream",
     "text": [
      "\r",
      "  5%|▌         | 16/300 [00:25<07:29,  1.58s/it]"
     ]
    },
    {
     "name": "stdout",
     "output_type": "stream",
     "text": [
      "epoch 15 iter 2: discloss 4.181596 genloss 4.161709 adv_x 1.366287 recons_x 1.404364 \n"
     ]
    },
    {
     "name": "stderr",
     "output_type": "stream",
     "text": [
      "\r",
      "  6%|▌         | 17/300 [00:27<07:26,  1.58s/it]"
     ]
    },
    {
     "name": "stdout",
     "output_type": "stream",
     "text": [
      "epoch 16 iter 2: discloss 4.210628 genloss 4.154803 adv_x 1.371546 recons_x 1.391658 \n"
     ]
    },
    {
     "name": "stderr",
     "output_type": "stream",
     "text": [
      "\r",
      "  6%|▌         | 18/300 [00:28<07:20,  1.56s/it]"
     ]
    },
    {
     "name": "stdout",
     "output_type": "stream",
     "text": [
      "epoch 17 iter 2: discloss 4.161227 genloss 4.205899 adv_x 1.421056 recons_x 1.395178 \n"
     ]
    },
    {
     "name": "stderr",
     "output_type": "stream",
     "text": [
      "\r",
      "  6%|▋         | 19/300 [00:30<07:21,  1.57s/it]"
     ]
    },
    {
     "name": "stdout",
     "output_type": "stream",
     "text": [
      "epoch 18 iter 2: discloss 4.141623 genloss 4.198981 adv_x 1.415477 recons_x 1.391798 \n"
     ]
    },
    {
     "name": "stderr",
     "output_type": "stream",
     "text": [
      "\r",
      "  7%|▋         | 20/300 [00:31<07:19,  1.57s/it]"
     ]
    },
    {
     "name": "stdout",
     "output_type": "stream",
     "text": [
      "epoch 19 iter 2: discloss 4.195093 genloss 4.141194 adv_x 1.358261 recons_x 1.391097 \n"
     ]
    },
    {
     "name": "stderr",
     "output_type": "stream",
     "text": [
      "\r",
      "  7%|▋         | 21/300 [00:33<07:18,  1.57s/it]"
     ]
    },
    {
     "name": "stdout",
     "output_type": "stream",
     "text": [
      "epoch 20 iter 2: discloss 4.210154 genloss 4.154336 adv_x 1.365903 recons_x 1.396682 \n"
     ]
    },
    {
     "name": "stderr",
     "output_type": "stream",
     "text": [
      "\r",
      "  7%|▋         | 22/300 [00:34<07:18,  1.58s/it]"
     ]
    },
    {
     "name": "stdout",
     "output_type": "stream",
     "text": [
      "epoch 21 iter 2: discloss 4.143094 genloss 4.179940 adv_x 1.390768 recons_x 1.395331 \n"
     ]
    },
    {
     "name": "stderr",
     "output_type": "stream",
     "text": [
      "\r",
      "  8%|▊         | 23/300 [00:36<07:14,  1.57s/it]"
     ]
    },
    {
     "name": "stdout",
     "output_type": "stream",
     "text": [
      "epoch 22 iter 2: discloss 4.162975 genloss 4.158836 adv_x 1.366836 recons_x 1.391865 \n"
     ]
    },
    {
     "name": "stderr",
     "output_type": "stream",
     "text": [
      "\r",
      "  8%|▊         | 24/300 [00:38<07:53,  1.72s/it]"
     ]
    },
    {
     "name": "stdout",
     "output_type": "stream",
     "text": [
      "epoch 23 iter 2: discloss 4.160296 genloss 4.166523 adv_x 1.372782 recons_x 1.392154 \n"
     ]
    },
    {
     "name": "stderr",
     "output_type": "stream",
     "text": [
      "\r",
      "  8%|▊         | 25/300 [00:40<08:46,  1.92s/it]"
     ]
    },
    {
     "name": "stdout",
     "output_type": "stream",
     "text": [
      "epoch 24 iter 2: discloss 4.149273 genloss 4.178286 adv_x 1.384452 recons_x 1.389684 \n"
     ]
    },
    {
     "name": "stderr",
     "output_type": "stream",
     "text": [
      "\r",
      "  9%|▊         | 26/300 [00:42<08:51,  1.94s/it]"
     ]
    },
    {
     "name": "stdout",
     "output_type": "stream",
     "text": [
      "epoch 25 iter 2: discloss 4.142970 genloss 4.184132 adv_x 1.386801 recons_x 1.394355 \n"
     ]
    },
    {
     "name": "stderr",
     "output_type": "stream",
     "text": [
      "\r",
      "  9%|▉         | 27/300 [00:44<08:25,  1.85s/it]"
     ]
    },
    {
     "name": "stdout",
     "output_type": "stream",
     "text": [
      "epoch 26 iter 2: discloss 4.138387 genloss 4.187503 adv_x 1.390599 recons_x 1.394435 \n"
     ]
    },
    {
     "name": "stderr",
     "output_type": "stream",
     "text": [
      "\r",
      "  9%|▉         | 28/300 [00:46<08:21,  1.84s/it]"
     ]
    },
    {
     "name": "stdout",
     "output_type": "stream",
     "text": [
      "epoch 27 iter 2: discloss 4.135474 genloss 4.190944 adv_x 1.394707 recons_x 1.394411 \n"
     ]
    },
    {
     "name": "stderr",
     "output_type": "stream",
     "text": [
      "\r",
      " 10%|▉         | 29/300 [00:48<08:10,  1.81s/it]"
     ]
    },
    {
     "name": "stdout",
     "output_type": "stream",
     "text": [
      "epoch 28 iter 2: discloss 4.126619 genloss 4.191076 adv_x 1.397286 recons_x 1.390781 \n"
     ]
    },
    {
     "name": "stderr",
     "output_type": "stream",
     "text": [
      "\r",
      " 10%|█         | 30/300 [00:49<07:55,  1.76s/it]"
     ]
    },
    {
     "name": "stdout",
     "output_type": "stream",
     "text": [
      "epoch 29 iter 2: discloss 4.123216 genloss 4.195344 adv_x 1.399153 recons_x 1.389462 \n"
     ]
    },
    {
     "name": "stderr",
     "output_type": "stream",
     "text": [
      "\r",
      " 10%|█         | 31/300 [00:51<07:38,  1.70s/it]"
     ]
    },
    {
     "name": "stdout",
     "output_type": "stream",
     "text": [
      "epoch 30 iter 2: discloss 4.121911 genloss 4.202028 adv_x 1.400464 recons_x 1.394009 \n"
     ]
    },
    {
     "name": "stderr",
     "output_type": "stream",
     "text": [
      "\r",
      " 11%|█         | 32/300 [00:52<07:18,  1.64s/it]"
     ]
    },
    {
     "name": "stdout",
     "output_type": "stream",
     "text": [
      "epoch 31 iter 2: discloss 4.126201 genloss 4.203705 adv_x 1.398915 recons_x 1.399796 \n"
     ]
    },
    {
     "name": "stderr",
     "output_type": "stream",
     "text": [
      "\r",
      " 11%|█         | 33/300 [00:54<07:03,  1.59s/it]"
     ]
    },
    {
     "name": "stdout",
     "output_type": "stream",
     "text": [
      "epoch 32 iter 2: discloss 4.108079 genloss 4.222905 adv_x 1.420158 recons_x 1.399947 \n"
     ]
    },
    {
     "name": "stderr",
     "output_type": "stream",
     "text": [
      "\r",
      " 11%|█▏        | 34/300 [00:55<06:50,  1.54s/it]"
     ]
    },
    {
     "name": "stdout",
     "output_type": "stream",
     "text": [
      "epoch 33 iter 2: discloss 4.131300 genloss 4.186516 adv_x 1.387756 recons_x 1.399563 \n"
     ]
    },
    {
     "name": "stderr",
     "output_type": "stream",
     "text": [
      "\r",
      " 12%|█▏        | 35/300 [00:57<06:36,  1.50s/it]"
     ]
    },
    {
     "name": "stdout",
     "output_type": "stream",
     "text": [
      "epoch 34 iter 2: discloss 4.126188 genloss 4.218423 adv_x 1.402335 recons_x 1.411275 \n"
     ]
    },
    {
     "name": "stderr",
     "output_type": "stream",
     "text": [
      "\r",
      " 12%|█▏        | 36/300 [00:58<06:18,  1.43s/it]"
     ]
    },
    {
     "name": "stdout",
     "output_type": "stream",
     "text": [
      "epoch 35 iter 2: discloss 4.098410 genloss 4.222276 adv_x 1.424371 recons_x 1.392060 \n"
     ]
    },
    {
     "name": "stderr",
     "output_type": "stream",
     "text": [
      "\r",
      " 12%|█▏        | 37/300 [00:59<06:03,  1.38s/it]"
     ]
    },
    {
     "name": "stdout",
     "output_type": "stream",
     "text": [
      "epoch 36 iter 2: discloss 4.143695 genloss 4.177614 adv_x 1.378235 recons_x 1.402591 \n"
     ]
    },
    {
     "name": "stderr",
     "output_type": "stream",
     "text": [
      "\r",
      " 13%|█▎        | 38/300 [01:00<05:53,  1.35s/it]"
     ]
    },
    {
     "name": "stdout",
     "output_type": "stream",
     "text": [
      "epoch 37 iter 2: discloss 4.146661 genloss 4.200017 adv_x 1.390656 recons_x 1.405286 \n"
     ]
    },
    {
     "name": "stderr",
     "output_type": "stream",
     "text": [
      "\r",
      " 13%|█▎        | 39/300 [01:02<05:45,  1.32s/it]"
     ]
    },
    {
     "name": "stdout",
     "output_type": "stream",
     "text": [
      "epoch 38 iter 2: discloss 4.124153 genloss 4.194833 adv_x 1.407356 recons_x 1.390926 \n"
     ]
    },
    {
     "name": "stderr",
     "output_type": "stream",
     "text": [
      "\r",
      " 13%|█▎        | 40/300 [01:03<05:40,  1.31s/it]"
     ]
    },
    {
     "name": "stdout",
     "output_type": "stream",
     "text": [
      "epoch 39 iter 2: discloss 4.135361 genloss 4.200191 adv_x 1.404162 recons_x 1.397372 \n"
     ]
    },
    {
     "name": "stderr",
     "output_type": "stream",
     "text": [
      "\r",
      " 14%|█▎        | 41/300 [01:04<05:36,  1.30s/it]"
     ]
    },
    {
     "name": "stdout",
     "output_type": "stream",
     "text": [
      "epoch 40 iter 2: discloss 4.115564 genloss 4.212534 adv_x 1.417869 recons_x 1.398879 \n"
     ]
    },
    {
     "name": "stderr",
     "output_type": "stream",
     "text": [
      "\r",
      " 14%|█▍        | 42/300 [01:05<05:33,  1.29s/it]"
     ]
    },
    {
     "name": "stdout",
     "output_type": "stream",
     "text": [
      "epoch 41 iter 2: discloss 4.131763 genloss 4.206545 adv_x 1.404120 recons_x 1.404265 \n"
     ]
    },
    {
     "name": "stderr",
     "output_type": "stream",
     "text": [
      "\r",
      " 14%|█▍        | 43/300 [01:07<05:30,  1.29s/it]"
     ]
    },
    {
     "name": "stdout",
     "output_type": "stream",
     "text": [
      "epoch 42 iter 2: discloss 4.120813 genloss 4.205612 adv_x 1.411274 recons_x 1.393242 \n"
     ]
    },
    {
     "name": "stderr",
     "output_type": "stream",
     "text": [
      "\r",
      " 15%|█▍        | 44/300 [01:08<05:34,  1.31s/it]"
     ]
    },
    {
     "name": "stdout",
     "output_type": "stream",
     "text": [
      "epoch 43 iter 2: discloss 4.117828 genloss 4.192884 adv_x 1.397821 recons_x 1.398697 \n"
     ]
    },
    {
     "name": "stderr",
     "output_type": "stream",
     "text": [
      "\r",
      " 15%|█▌        | 45/300 [01:09<05:32,  1.30s/it]"
     ]
    },
    {
     "name": "stdout",
     "output_type": "stream",
     "text": [
      "epoch 44 iter 2: discloss 4.132450 genloss 4.203915 adv_x 1.397699 recons_x 1.404933 \n"
     ]
    },
    {
     "name": "stderr",
     "output_type": "stream",
     "text": [
      "\r",
      " 15%|█▌        | 46/300 [01:11<05:28,  1.29s/it]"
     ]
    },
    {
     "name": "stdout",
     "output_type": "stream",
     "text": [
      "epoch 45 iter 2: discloss 4.119370 genloss 4.203702 adv_x 1.406320 recons_x 1.395336 \n"
     ]
    },
    {
     "name": "stderr",
     "output_type": "stream",
     "text": [
      "\r",
      " 16%|█▌        | 47/300 [01:12<05:26,  1.29s/it]"
     ]
    },
    {
     "name": "stdout",
     "output_type": "stream",
     "text": [
      "epoch 46 iter 2: discloss 4.153609 genloss 4.177570 adv_x 1.383175 recons_x 1.397658 \n"
     ]
    },
    {
     "name": "stderr",
     "output_type": "stream",
     "text": [
      "\r",
      " 16%|█▌        | 48/300 [01:13<05:25,  1.29s/it]"
     ]
    },
    {
     "name": "stdout",
     "output_type": "stream",
     "text": [
      "epoch 47 iter 2: discloss 4.116518 genloss 4.213756 adv_x 1.409804 recons_x 1.405280 \n"
     ]
    },
    {
     "name": "stderr",
     "output_type": "stream",
     "text": [
      "\r",
      " 16%|█▋        | 49/300 [01:15<05:26,  1.30s/it]"
     ]
    },
    {
     "name": "stdout",
     "output_type": "stream",
     "text": [
      "epoch 48 iter 2: discloss 4.117785 genloss 4.199581 adv_x 1.412840 recons_x 1.389460 \n"
     ]
    },
    {
     "name": "stderr",
     "output_type": "stream",
     "text": [
      "\r",
      " 17%|█▋        | 50/300 [01:16<05:33,  1.34s/it]"
     ]
    },
    {
     "name": "stdout",
     "output_type": "stream",
     "text": [
      "epoch 49 iter 2: discloss 4.146410 genloss 4.185931 adv_x 1.387469 recons_x 1.401728 \n"
     ]
    },
    {
     "name": "stderr",
     "output_type": "stream",
     "text": [
      "\r",
      " 17%|█▋        | 51/300 [01:17<05:34,  1.34s/it]"
     ]
    },
    {
     "name": "stdout",
     "output_type": "stream",
     "text": [
      "epoch 50 iter 2: discloss 4.116328 genloss 4.230350 adv_x 1.436921 recons_x 1.395017 \n"
     ]
    },
    {
     "name": "stderr",
     "output_type": "stream",
     "text": [
      "\r",
      " 17%|█▋        | 52/300 [01:19<05:28,  1.32s/it]"
     ]
    },
    {
     "name": "stdout",
     "output_type": "stream",
     "text": [
      "epoch 51 iter 2: discloss 4.132913 genloss 4.181030 adv_x 1.382846 recons_x 1.395479 \n"
     ]
    },
    {
     "name": "stderr",
     "output_type": "stream",
     "text": [
      "\r",
      " 18%|█▊        | 53/300 [01:20<05:23,  1.31s/it]"
     ]
    },
    {
     "name": "stdout",
     "output_type": "stream",
     "text": [
      "epoch 52 iter 2: discloss 4.155972 genloss 4.182165 adv_x 1.381103 recons_x 1.401671 \n"
     ]
    },
    {
     "name": "stderr",
     "output_type": "stream",
     "text": [
      "\r",
      " 18%|█▊        | 54/300 [01:21<05:20,  1.30s/it]"
     ]
    },
    {
     "name": "stdout",
     "output_type": "stream",
     "text": [
      "epoch 53 iter 2: discloss 4.120441 genloss 4.226243 adv_x 1.422478 recons_x 1.401760 \n"
     ]
    },
    {
     "name": "stderr",
     "output_type": "stream",
     "text": [
      "\r",
      " 18%|█▊        | 55/300 [01:22<05:17,  1.30s/it]"
     ]
    },
    {
     "name": "stdout",
     "output_type": "stream",
     "text": [
      "epoch 54 iter 2: discloss 4.121107 genloss 4.193118 adv_x 1.397261 recons_x 1.397267 \n"
     ]
    },
    {
     "name": "stderr",
     "output_type": "stream",
     "text": [
      "\r",
      " 19%|█▊        | 56/300 [01:24<05:14,  1.29s/it]"
     ]
    },
    {
     "name": "stdout",
     "output_type": "stream",
     "text": [
      "epoch 55 iter 2: discloss 4.151299 genloss 4.196054 adv_x 1.387887 recons_x 1.407706 \n"
     ]
    },
    {
     "name": "stderr",
     "output_type": "stream",
     "text": [
      "\r",
      " 19%|█▉        | 57/300 [01:25<05:18,  1.31s/it]"
     ]
    },
    {
     "name": "stdout",
     "output_type": "stream",
     "text": [
      "epoch 56 iter 2: discloss 4.124999 genloss 4.195368 adv_x 1.380019 recons_x 1.408875 \n"
     ]
    },
    {
     "name": "stderr",
     "output_type": "stream",
     "text": [
      "\r",
      " 19%|█▉        | 58/300 [01:26<05:17,  1.31s/it]"
     ]
    },
    {
     "name": "stdout",
     "output_type": "stream",
     "text": [
      "epoch 57 iter 2: discloss 4.130739 genloss 4.192848 adv_x 1.380584 recons_x 1.407422 \n"
     ]
    },
    {
     "name": "stderr",
     "output_type": "stream",
     "text": [
      "\r",
      " 20%|█▉        | 59/300 [01:28<05:16,  1.31s/it]"
     ]
    },
    {
     "name": "stdout",
     "output_type": "stream",
     "text": [
      "epoch 58 iter 2: discloss 4.134652 genloss 4.203279 adv_x 1.404477 recons_x 1.402358 \n"
     ]
    },
    {
     "name": "stderr",
     "output_type": "stream",
     "text": [
      "\r",
      " 20%|██        | 60/300 [01:29<05:19,  1.33s/it]"
     ]
    },
    {
     "name": "stdout",
     "output_type": "stream",
     "text": [
      "epoch 59 iter 2: discloss 4.114887 genloss 4.209004 adv_x 1.402882 recons_x 1.401687 \n"
     ]
    },
    {
     "name": "stderr",
     "output_type": "stream",
     "text": [
      "\r",
      " 20%|██        | 61/300 [01:30<05:16,  1.32s/it]"
     ]
    },
    {
     "name": "stdout",
     "output_type": "stream",
     "text": [
      "epoch 60 iter 2: discloss 4.128938 genloss 4.194167 adv_x 1.402512 recons_x 1.396061 \n"
     ]
    },
    {
     "name": "stderr",
     "output_type": "stream",
     "text": [
      "\r",
      " 21%|██        | 62/300 [01:32<05:12,  1.31s/it]"
     ]
    },
    {
     "name": "stdout",
     "output_type": "stream",
     "text": [
      "epoch 61 iter 2: discloss 4.122615 genloss 4.202966 adv_x 1.410625 recons_x 1.395270 \n"
     ]
    },
    {
     "name": "stderr",
     "output_type": "stream",
     "text": [
      "\r",
      " 21%|██        | 63/300 [01:33<05:08,  1.30s/it]"
     ]
    },
    {
     "name": "stdout",
     "output_type": "stream",
     "text": [
      "epoch 62 iter 2: discloss 4.115427 genloss 4.197549 adv_x 1.410306 recons_x 1.390911 \n"
     ]
    },
    {
     "name": "stderr",
     "output_type": "stream",
     "text": [
      "\r",
      " 21%|██▏       | 64/300 [01:34<05:10,  1.32s/it]"
     ]
    },
    {
     "name": "stdout",
     "output_type": "stream",
     "text": [
      "epoch 63 iter 2: discloss 4.119894 genloss 4.199141 adv_x 1.403413 recons_x 1.397162 \n"
     ]
    },
    {
     "name": "stderr",
     "output_type": "stream",
     "text": [
      "\r",
      " 22%|██▏       | 65/300 [01:36<05:12,  1.33s/it]"
     ]
    },
    {
     "name": "stdout",
     "output_type": "stream",
     "text": [
      "epoch 64 iter 2: discloss 4.115837 genloss 4.212100 adv_x 1.416713 recons_x 1.399214 \n"
     ]
    },
    {
     "name": "stderr",
     "output_type": "stream",
     "text": [
      "\r",
      " 22%|██▏       | 66/300 [01:37<05:09,  1.32s/it]"
     ]
    },
    {
     "name": "stdout",
     "output_type": "stream",
     "text": [
      "epoch 65 iter 2: discloss 4.125546 genloss 4.193748 adv_x 1.395620 recons_x 1.399412 \n"
     ]
    },
    {
     "name": "stderr",
     "output_type": "stream",
     "text": [
      "\r",
      " 22%|██▏       | 67/300 [01:38<05:05,  1.31s/it]"
     ]
    },
    {
     "name": "stdout",
     "output_type": "stream",
     "text": [
      "epoch 66 iter 2: discloss 4.116617 genloss 4.226624 adv_x 1.422835 recons_x 1.401971 \n"
     ]
    },
    {
     "name": "stderr",
     "output_type": "stream",
     "text": [
      "\r",
      " 23%|██▎       | 68/300 [01:40<05:03,  1.31s/it]"
     ]
    },
    {
     "name": "stdout",
     "output_type": "stream",
     "text": [
      "epoch 67 iter 2: discloss 4.122987 genloss 4.219686 adv_x 1.398694 recons_x 1.410925 \n"
     ]
    },
    {
     "name": "stderr",
     "output_type": "stream",
     "text": [
      "\r",
      " 23%|██▎       | 69/300 [01:41<04:59,  1.30s/it]"
     ]
    },
    {
     "name": "stdout",
     "output_type": "stream",
     "text": [
      "epoch 68 iter 2: discloss 4.148201 genloss 4.190209 adv_x 1.391334 recons_x 1.402231 \n"
     ]
    },
    {
     "name": "stderr",
     "output_type": "stream",
     "text": [
      "\r",
      " 23%|██▎       | 70/300 [01:42<05:00,  1.30s/it]"
     ]
    },
    {
     "name": "stdout",
     "output_type": "stream",
     "text": [
      "epoch 69 iter 2: discloss 4.113640 genloss 4.221972 adv_x 1.414215 recons_x 1.404286 \n"
     ]
    },
    {
     "name": "stderr",
     "output_type": "stream",
     "text": [
      "\r",
      " 24%|██▎       | 71/300 [01:43<04:56,  1.30s/it]"
     ]
    },
    {
     "name": "stdout",
     "output_type": "stream",
     "text": [
      "epoch 70 iter 2: discloss 4.131157 genloss 4.183044 adv_x 1.379521 recons_x 1.402832 \n"
     ]
    },
    {
     "name": "stderr",
     "output_type": "stream",
     "text": [
      "\r",
      " 24%|██▍       | 72/300 [01:45<04:53,  1.29s/it]"
     ]
    },
    {
     "name": "stdout",
     "output_type": "stream",
     "text": [
      "epoch 71 iter 2: discloss 4.137187 genloss 4.200777 adv_x 1.389683 recons_x 1.404304 \n"
     ]
    },
    {
     "name": "stderr",
     "output_type": "stream",
     "text": [
      "\r",
      " 24%|██▍       | 73/300 [01:46<04:52,  1.29s/it]"
     ]
    },
    {
     "name": "stdout",
     "output_type": "stream",
     "text": [
      "epoch 72 iter 2: discloss 4.120679 genloss 4.213102 adv_x 1.396720 recons_x 1.408967 \n"
     ]
    },
    {
     "name": "stderr",
     "output_type": "stream",
     "text": [
      "\r",
      " 25%|██▍       | 74/300 [01:47<04:50,  1.28s/it]"
     ]
    },
    {
     "name": "stdout",
     "output_type": "stream",
     "text": [
      "epoch 73 iter 2: discloss 4.129358 genloss 4.191602 adv_x 1.396848 recons_x 1.394649 \n"
     ]
    },
    {
     "name": "stderr",
     "output_type": "stream",
     "text": [
      "\r",
      " 25%|██▌       | 75/300 [01:49<04:48,  1.28s/it]"
     ]
    },
    {
     "name": "stdout",
     "output_type": "stream",
     "text": [
      "epoch 74 iter 2: discloss 4.117473 genloss 4.236526 adv_x 1.407949 recons_x 1.418705 \n"
     ]
    },
    {
     "name": "stderr",
     "output_type": "stream",
     "text": [
      "\r",
      " 25%|██▌       | 76/300 [01:50<04:47,  1.28s/it]"
     ]
    },
    {
     "name": "stdout",
     "output_type": "stream",
     "text": [
      "epoch 75 iter 2: discloss 4.135867 genloss 4.209331 adv_x 1.374844 recons_x 1.431177 \n"
     ]
    },
    {
     "name": "stderr",
     "output_type": "stream",
     "text": [
      "\r",
      " 26%|██▌       | 77/300 [01:51<04:45,  1.28s/it]"
     ]
    },
    {
     "name": "stdout",
     "output_type": "stream",
     "text": [
      "epoch 76 iter 2: discloss 4.098194 genloss 4.225530 adv_x 1.420820 recons_x 1.399577 \n"
     ]
    },
    {
     "name": "stderr",
     "output_type": "stream",
     "text": [
      "\r",
      " 26%|██▌       | 78/300 [01:52<04:44,  1.28s/it]"
     ]
    },
    {
     "name": "stdout",
     "output_type": "stream",
     "text": [
      "epoch 77 iter 2: discloss 4.101599 genloss 4.276537 adv_x 1.416162 recons_x 1.438436 \n"
     ]
    },
    {
     "name": "stderr",
     "output_type": "stream",
     "text": [
      "\r",
      " 26%|██▋       | 79/300 [01:54<04:42,  1.28s/it]"
     ]
    },
    {
     "name": "stdout",
     "output_type": "stream",
     "text": [
      "epoch 78 iter 2: discloss 4.113055 genloss 4.215915 adv_x 1.404141 recons_x 1.408283 \n"
     ]
    },
    {
     "name": "stderr",
     "output_type": "stream",
     "text": [
      "\r",
      " 27%|██▋       | 80/300 [01:55<04:41,  1.28s/it]"
     ]
    },
    {
     "name": "stdout",
     "output_type": "stream",
     "text": [
      "epoch 79 iter 2: discloss 4.099335 genloss 4.205279 adv_x 1.413431 recons_x 1.392082 \n"
     ]
    },
    {
     "name": "stderr",
     "output_type": "stream",
     "text": [
      "\r",
      " 27%|██▋       | 81/300 [01:56<04:39,  1.28s/it]"
     ]
    },
    {
     "name": "stdout",
     "output_type": "stream",
     "text": [
      "epoch 80 iter 2: discloss 4.107971 genloss 4.210602 adv_x 1.409194 recons_x 1.395777 \n"
     ]
    },
    {
     "name": "stderr",
     "output_type": "stream",
     "text": [
      "\r",
      " 27%|██▋       | 82/300 [01:57<04:38,  1.28s/it]"
     ]
    },
    {
     "name": "stdout",
     "output_type": "stream",
     "text": [
      "epoch 81 iter 2: discloss 4.110850 genloss 4.203156 adv_x 1.411280 recons_x 1.395245 \n"
     ]
    },
    {
     "name": "stderr",
     "output_type": "stream",
     "text": [
      "\r",
      " 28%|██▊       | 83/300 [01:59<04:37,  1.28s/it]"
     ]
    },
    {
     "name": "stdout",
     "output_type": "stream",
     "text": [
      "epoch 82 iter 2: discloss 4.109914 genloss 4.206082 adv_x 1.410974 recons_x 1.393578 \n"
     ]
    },
    {
     "name": "stderr",
     "output_type": "stream",
     "text": [
      "\r",
      " 28%|██▊       | 84/300 [02:00<04:36,  1.28s/it]"
     ]
    },
    {
     "name": "stdout",
     "output_type": "stream",
     "text": [
      "epoch 83 iter 2: discloss 4.113762 genloss 4.188479 adv_x 1.392992 recons_x 1.394157 \n"
     ]
    },
    {
     "name": "stderr",
     "output_type": "stream",
     "text": [
      "\r",
      " 28%|██▊       | 85/300 [02:01<04:42,  1.32s/it]"
     ]
    },
    {
     "name": "stdout",
     "output_type": "stream",
     "text": [
      "epoch 84 iter 2: discloss 4.090689 genloss 4.217030 adv_x 1.405820 recons_x 1.398221 \n"
     ]
    },
    {
     "name": "stderr",
     "output_type": "stream",
     "text": [
      "\r",
      " 29%|██▊       | 86/300 [02:03<04:56,  1.39s/it]"
     ]
    },
    {
     "name": "stdout",
     "output_type": "stream",
     "text": [
      "epoch 85 iter 2: discloss 4.102643 genloss 4.208604 adv_x 1.410211 recons_x 1.397024 \n"
     ]
    },
    {
     "name": "stderr",
     "output_type": "stream",
     "text": [
      "\r",
      " 29%|██▉       | 87/300 [02:05<05:05,  1.43s/it]"
     ]
    },
    {
     "name": "stdout",
     "output_type": "stream",
     "text": [
      "epoch 86 iter 2: discloss 4.129551 genloss 4.192857 adv_x 1.398747 recons_x 1.392026 \n"
     ]
    },
    {
     "name": "stderr",
     "output_type": "stream",
     "text": [
      "\r",
      " 29%|██▉       | 88/300 [02:06<05:05,  1.44s/it]"
     ]
    },
    {
     "name": "stdout",
     "output_type": "stream",
     "text": [
      "epoch 87 iter 2: discloss 4.120607 genloss 4.208933 adv_x 1.418446 recons_x 1.391344 \n"
     ]
    },
    {
     "name": "stderr",
     "output_type": "stream",
     "text": [
      "\r",
      " 30%|██▉       | 89/300 [02:07<04:57,  1.41s/it]"
     ]
    },
    {
     "name": "stdout",
     "output_type": "stream",
     "text": [
      "epoch 88 iter 2: discloss 4.106007 genloss 4.220255 adv_x 1.407773 recons_x 1.404076 \n"
     ]
    },
    {
     "name": "stderr",
     "output_type": "stream",
     "text": [
      "\r",
      " 30%|███       | 90/300 [02:09<04:49,  1.38s/it]"
     ]
    },
    {
     "name": "stdout",
     "output_type": "stream",
     "text": [
      "epoch 89 iter 2: discloss 4.131701 genloss 4.227392 adv_x 1.386730 recons_x 1.415858 \n"
     ]
    },
    {
     "name": "stderr",
     "output_type": "stream",
     "text": [
      "\r",
      " 30%|███       | 91/300 [02:10<04:42,  1.35s/it]"
     ]
    },
    {
     "name": "stdout",
     "output_type": "stream",
     "text": [
      "epoch 90 iter 2: discloss 4.122182 genloss 4.283757 adv_x 1.415057 recons_x 1.434756 \n"
     ]
    },
    {
     "name": "stderr",
     "output_type": "stream",
     "text": [
      "\r",
      " 31%|███       | 92/300 [02:11<04:37,  1.34s/it]"
     ]
    },
    {
     "name": "stdout",
     "output_type": "stream",
     "text": [
      "epoch 91 iter 2: discloss 4.089285 genloss 4.235907 adv_x 1.433807 recons_x 1.392645 \n"
     ]
    },
    {
     "name": "stderr",
     "output_type": "stream",
     "text": [
      "\r",
      " 31%|███       | 93/300 [02:13<04:34,  1.32s/it]"
     ]
    },
    {
     "name": "stdout",
     "output_type": "stream",
     "text": [
      "epoch 92 iter 2: discloss 4.117901 genloss 4.211137 adv_x 1.410884 recons_x 1.396968 \n"
     ]
    },
    {
     "name": "stderr",
     "output_type": "stream",
     "text": [
      "\r",
      " 31%|███▏      | 94/300 [02:14<04:30,  1.32s/it]"
     ]
    },
    {
     "name": "stdout",
     "output_type": "stream",
     "text": [
      "epoch 93 iter 2: discloss 4.055235 genloss 4.240110 adv_x 1.402675 recons_x 1.410832 \n"
     ]
    },
    {
     "name": "stderr",
     "output_type": "stream",
     "text": [
      "\r",
      " 32%|███▏      | 95/300 [02:15<04:28,  1.31s/it]"
     ]
    },
    {
     "name": "stdout",
     "output_type": "stream",
     "text": [
      "epoch 94 iter 2: discloss 4.112724 genloss 4.218873 adv_x 1.398062 recons_x 1.405912 \n"
     ]
    },
    {
     "name": "stderr",
     "output_type": "stream",
     "text": [
      "\r",
      " 32%|███▏      | 96/300 [02:16<04:26,  1.31s/it]"
     ]
    },
    {
     "name": "stdout",
     "output_type": "stream",
     "text": [
      "epoch 95 iter 2: discloss 4.096983 genloss 4.221690 adv_x 1.426752 recons_x 1.390126 \n"
     ]
    },
    {
     "name": "stderr",
     "output_type": "stream",
     "text": [
      "\r",
      " 32%|███▏      | 97/300 [02:18<04:23,  1.30s/it]"
     ]
    },
    {
     "name": "stdout",
     "output_type": "stream",
     "text": [
      "epoch 96 iter 2: discloss 4.118276 genloss 4.196060 adv_x 1.384075 recons_x 1.399375 \n"
     ]
    },
    {
     "name": "stderr",
     "output_type": "stream",
     "text": [
      "\r",
      " 33%|███▎      | 98/300 [02:19<04:28,  1.33s/it]"
     ]
    },
    {
     "name": "stdout",
     "output_type": "stream",
     "text": [
      "epoch 97 iter 2: discloss 4.117258 genloss 4.209440 adv_x 1.389720 recons_x 1.414470 \n"
     ]
    },
    {
     "name": "stderr",
     "output_type": "stream",
     "text": [
      "\r",
      " 33%|███▎      | 99/300 [02:21<04:46,  1.43s/it]"
     ]
    },
    {
     "name": "stdout",
     "output_type": "stream",
     "text": [
      "epoch 98 iter 2: discloss 4.104165 genloss 4.225893 adv_x 1.417758 recons_x 1.399029 \n"
     ]
    },
    {
     "name": "stderr",
     "output_type": "stream",
     "text": [
      "\r",
      " 33%|███▎      | 100/300 [02:22<04:59,  1.50s/it]"
     ]
    },
    {
     "name": "stdout",
     "output_type": "stream",
     "text": [
      "epoch 99 iter 2: discloss 4.123896 genloss 4.192180 adv_x 1.393908 recons_x 1.392639 \n"
     ]
    },
    {
     "name": "stderr",
     "output_type": "stream",
     "text": [
      "\r",
      " 34%|███▎      | 101/300 [02:24<05:02,  1.52s/it]"
     ]
    },
    {
     "name": "stdout",
     "output_type": "stream",
     "text": [
      "epoch 100 iter 2: discloss 4.110459 genloss 4.235256 adv_x 1.424914 recons_x 1.398689 \n"
     ]
    },
    {
     "name": "stderr",
     "output_type": "stream",
     "text": [
      "\r",
      " 34%|███▍      | 102/300 [02:26<05:31,  1.67s/it]"
     ]
    },
    {
     "name": "stdout",
     "output_type": "stream",
     "text": [
      "epoch 101 iter 2: discloss 4.111331 genloss 4.195991 adv_x 1.405514 recons_x 1.391413 \n"
     ]
    },
    {
     "name": "stderr",
     "output_type": "stream",
     "text": [
      "\r",
      " 34%|███▍      | 103/300 [02:28<05:59,  1.83s/it]"
     ]
    },
    {
     "name": "stdout",
     "output_type": "stream",
     "text": [
      "epoch 102 iter 2: discloss 4.120844 genloss 4.225180 adv_x 1.412182 recons_x 1.400087 \n"
     ]
    },
    {
     "name": "stderr",
     "output_type": "stream",
     "text": [
      "\r",
      " 35%|███▍      | 104/300 [02:30<06:15,  1.91s/it]"
     ]
    },
    {
     "name": "stdout",
     "output_type": "stream",
     "text": [
      "epoch 103 iter 2: discloss 4.094537 genloss 4.237650 adv_x 1.421997 recons_x 1.406467 \n"
     ]
    },
    {
     "name": "stderr",
     "output_type": "stream",
     "text": [
      "\r",
      " 35%|███▌      | 105/300 [02:32<06:22,  1.96s/it]"
     ]
    },
    {
     "name": "stdout",
     "output_type": "stream",
     "text": [
      "epoch 104 iter 2: discloss 4.100581 genloss 4.208172 adv_x 1.409194 recons_x 1.397338 \n"
     ]
    },
    {
     "name": "stderr",
     "output_type": "stream",
     "text": [
      "\r",
      " 35%|███▌      | 106/300 [02:34<06:28,  2.00s/it]"
     ]
    },
    {
     "name": "stdout",
     "output_type": "stream",
     "text": [
      "epoch 105 iter 2: discloss 4.100147 genloss 4.228601 adv_x 1.412586 recons_x 1.395792 \n"
     ]
    },
    {
     "name": "stderr",
     "output_type": "stream",
     "text": [
      "\r",
      " 36%|███▌      | 107/300 [02:37<06:41,  2.08s/it]"
     ]
    },
    {
     "name": "stdout",
     "output_type": "stream",
     "text": [
      "epoch 106 iter 2: discloss 4.117105 genloss 4.226605 adv_x 1.417281 recons_x 1.396785 \n"
     ]
    },
    {
     "name": "stderr",
     "output_type": "stream",
     "text": [
      "\r",
      " 36%|███▌      | 108/300 [02:39<06:48,  2.13s/it]"
     ]
    },
    {
     "name": "stdout",
     "output_type": "stream",
     "text": [
      "epoch 107 iter 2: discloss 4.105531 genloss 4.240989 adv_x 1.428446 recons_x 1.398411 \n"
     ]
    },
    {
     "name": "stderr",
     "output_type": "stream",
     "text": [
      "\r",
      " 36%|███▋      | 109/300 [02:41<06:37,  2.08s/it]"
     ]
    },
    {
     "name": "stdout",
     "output_type": "stream",
     "text": [
      "epoch 108 iter 2: discloss 4.097250 genloss 4.218548 adv_x 1.414789 recons_x 1.394762 \n"
     ]
    },
    {
     "name": "stderr",
     "output_type": "stream",
     "text": [
      "\r",
      " 37%|███▋      | 110/300 [02:42<06:00,  1.90s/it]"
     ]
    },
    {
     "name": "stdout",
     "output_type": "stream",
     "text": [
      "epoch 109 iter 2: discloss 4.115718 genloss 4.233465 adv_x 1.417871 recons_x 1.400252 \n"
     ]
    },
    {
     "name": "stderr",
     "output_type": "stream",
     "text": [
      "\r",
      " 37%|███▋      | 111/300 [02:44<05:33,  1.77s/it]"
     ]
    },
    {
     "name": "stdout",
     "output_type": "stream",
     "text": [
      "epoch 110 iter 2: discloss 4.100434 genloss 4.216414 adv_x 1.423523 recons_x 1.391893 \n"
     ]
    },
    {
     "name": "stderr",
     "output_type": "stream",
     "text": [
      "\r",
      " 37%|███▋      | 112/300 [02:45<05:13,  1.67s/it]"
     ]
    },
    {
     "name": "stdout",
     "output_type": "stream",
     "text": [
      "epoch 111 iter 2: discloss 4.094038 genloss 4.219007 adv_x 1.423908 recons_x 1.391466 \n"
     ]
    },
    {
     "name": "stderr",
     "output_type": "stream",
     "text": [
      "\r",
      " 38%|███▊      | 113/300 [02:47<04:57,  1.59s/it]"
     ]
    },
    {
     "name": "stdout",
     "output_type": "stream",
     "text": [
      "epoch 112 iter 2: discloss 4.094998 genloss 4.228341 adv_x 1.427133 recons_x 1.394631 \n"
     ]
    },
    {
     "name": "stderr",
     "output_type": "stream",
     "text": [
      "\r",
      " 38%|███▊      | 114/300 [02:48<04:50,  1.56s/it]"
     ]
    },
    {
     "name": "stdout",
     "output_type": "stream",
     "text": [
      "epoch 113 iter 2: discloss 4.098114 genloss 4.219849 adv_x 1.409904 recons_x 1.397835 \n"
     ]
    },
    {
     "name": "stderr",
     "output_type": "stream",
     "text": [
      "\r",
      " 38%|███▊      | 115/300 [02:50<04:49,  1.56s/it]"
     ]
    },
    {
     "name": "stdout",
     "output_type": "stream",
     "text": [
      "epoch 114 iter 2: discloss 4.114295 genloss 4.236267 adv_x 1.406197 recons_x 1.413050 \n"
     ]
    },
    {
     "name": "stderr",
     "output_type": "stream",
     "text": [
      "\r",
      " 39%|███▊      | 116/300 [02:52<04:58,  1.62s/it]"
     ]
    },
    {
     "name": "stdout",
     "output_type": "stream",
     "text": [
      "epoch 115 iter 2: discloss 4.094378 genloss 4.219859 adv_x 1.410734 recons_x 1.399092 \n"
     ]
    },
    {
     "name": "stderr",
     "output_type": "stream",
     "text": [
      "\r",
      " 39%|███▉      | 117/300 [02:53<04:57,  1.63s/it]"
     ]
    },
    {
     "name": "stdout",
     "output_type": "stream",
     "text": [
      "epoch 116 iter 2: discloss 4.112566 genloss 4.229886 adv_x 1.409060 recons_x 1.400475 \n"
     ]
    },
    {
     "name": "stderr",
     "output_type": "stream",
     "text": [
      "\r",
      " 39%|███▉      | 118/300 [02:55<04:54,  1.62s/it]"
     ]
    },
    {
     "name": "stdout",
     "output_type": "stream",
     "text": [
      "epoch 117 iter 2: discloss 4.098983 genloss 4.232940 adv_x 1.427532 recons_x 1.399504 \n"
     ]
    },
    {
     "name": "stderr",
     "output_type": "stream",
     "text": [
      "\r",
      " 40%|███▉      | 119/300 [02:56<04:47,  1.59s/it]"
     ]
    },
    {
     "name": "stdout",
     "output_type": "stream",
     "text": [
      "epoch 118 iter 2: discloss 4.096558 genloss 4.219669 adv_x 1.429095 recons_x 1.390763 \n"
     ]
    },
    {
     "name": "stderr",
     "output_type": "stream",
     "text": [
      "\r",
      " 40%|████      | 120/300 [02:58<04:42,  1.57s/it]"
     ]
    },
    {
     "name": "stdout",
     "output_type": "stream",
     "text": [
      "epoch 119 iter 2: discloss 4.114059 genloss 4.258821 adv_x 1.414869 recons_x 1.418347 \n"
     ]
    },
    {
     "name": "stderr",
     "output_type": "stream",
     "text": [
      "\r",
      " 40%|████      | 121/300 [02:59<04:37,  1.55s/it]"
     ]
    },
    {
     "name": "stdout",
     "output_type": "stream",
     "text": [
      "epoch 120 iter 2: discloss 4.088637 genloss 4.235665 adv_x 1.438493 recons_x 1.392921 \n"
     ]
    },
    {
     "name": "stderr",
     "output_type": "stream",
     "text": [
      "\r",
      " 41%|████      | 122/300 [03:01<04:33,  1.54s/it]"
     ]
    },
    {
     "name": "stdout",
     "output_type": "stream",
     "text": [
      "epoch 121 iter 2: discloss 4.090198 genloss 4.233712 adv_x 1.428573 recons_x 1.394741 \n"
     ]
    },
    {
     "name": "stderr",
     "output_type": "stream",
     "text": [
      "\r",
      " 41%|████      | 123/300 [03:02<04:30,  1.53s/it]"
     ]
    },
    {
     "name": "stdout",
     "output_type": "stream",
     "text": [
      "epoch 122 iter 2: discloss 4.078424 genloss 4.241788 adv_x 1.436293 recons_x 1.394009 \n"
     ]
    },
    {
     "name": "stderr",
     "output_type": "stream",
     "text": [
      "\r",
      " 41%|████▏     | 124/300 [03:04<04:30,  1.54s/it]"
     ]
    },
    {
     "name": "stdout",
     "output_type": "stream",
     "text": [
      "epoch 123 iter 2: discloss 4.084059 genloss 4.237820 adv_x 1.435928 recons_x 1.392102 \n"
     ]
    },
    {
     "name": "stderr",
     "output_type": "stream",
     "text": [
      "\r",
      " 42%|████▏     | 125/300 [03:05<04:30,  1.54s/it]"
     ]
    },
    {
     "name": "stdout",
     "output_type": "stream",
     "text": [
      "epoch 124 iter 2: discloss 4.086749 genloss 4.236053 adv_x 1.438811 recons_x 1.389655 \n"
     ]
    },
    {
     "name": "stderr",
     "output_type": "stream",
     "text": [
      "\r",
      " 42%|████▏     | 126/300 [03:07<04:28,  1.54s/it]"
     ]
    },
    {
     "name": "stdout",
     "output_type": "stream",
     "text": [
      "epoch 125 iter 2: discloss 4.077946 genloss 4.243752 adv_x 1.425986 recons_x 1.397841 \n"
     ]
    },
    {
     "name": "stderr",
     "output_type": "stream",
     "text": [
      "\r",
      " 42%|████▏     | 127/300 [03:09<04:26,  1.54s/it]"
     ]
    },
    {
     "name": "stdout",
     "output_type": "stream",
     "text": [
      "epoch 126 iter 2: discloss 4.090346 genloss 4.263042 adv_x 1.426681 recons_x 1.411273 \n"
     ]
    },
    {
     "name": "stderr",
     "output_type": "stream",
     "text": [
      "\r",
      " 43%|████▎     | 128/300 [03:10<04:24,  1.54s/it]"
     ]
    },
    {
     "name": "stdout",
     "output_type": "stream",
     "text": [
      "epoch 127 iter 2: discloss 4.096366 genloss 4.232603 adv_x 1.418759 recons_x 1.397231 \n"
     ]
    },
    {
     "name": "stderr",
     "output_type": "stream",
     "text": [
      "\r",
      " 43%|████▎     | 129/300 [03:12<04:22,  1.53s/it]"
     ]
    },
    {
     "name": "stdout",
     "output_type": "stream",
     "text": [
      "epoch 128 iter 2: discloss 4.089659 genloss 4.261015 adv_x 1.438039 recons_x 1.402278 \n"
     ]
    },
    {
     "name": "stderr",
     "output_type": "stream",
     "text": [
      "\r",
      " 43%|████▎     | 130/300 [03:13<04:20,  1.53s/it]"
     ]
    },
    {
     "name": "stdout",
     "output_type": "stream",
     "text": [
      "epoch 129 iter 2: discloss 4.079739 genloss 4.260651 adv_x 1.402515 recons_x 1.433611 \n"
     ]
    },
    {
     "name": "stderr",
     "output_type": "stream",
     "text": [
      "\r",
      " 44%|████▎     | 131/300 [03:15<04:19,  1.53s/it]"
     ]
    },
    {
     "name": "stdout",
     "output_type": "stream",
     "text": [
      "epoch 130 iter 2: discloss 4.125272 genloss 4.234596 adv_x 1.425886 recons_x 1.395900 \n"
     ]
    },
    {
     "name": "stderr",
     "output_type": "stream",
     "text": [
      "\r",
      " 44%|████▍     | 132/300 [03:16<04:28,  1.60s/it]"
     ]
    },
    {
     "name": "stdout",
     "output_type": "stream",
     "text": [
      "epoch 131 iter 2: discloss 4.087847 genloss 4.231541 adv_x 1.394006 recons_x 1.416557 \n"
     ]
    },
    {
     "name": "stderr",
     "output_type": "stream",
     "text": [
      "\r",
      " 44%|████▍     | 133/300 [03:18<04:25,  1.59s/it]"
     ]
    },
    {
     "name": "stdout",
     "output_type": "stream",
     "text": [
      "epoch 132 iter 2: discloss 4.113126 genloss 4.211708 adv_x 1.383242 recons_x 1.404457 \n"
     ]
    },
    {
     "name": "stderr",
     "output_type": "stream",
     "text": [
      "\r",
      " 45%|████▍     | 134/300 [03:20<04:28,  1.62s/it]"
     ]
    },
    {
     "name": "stdout",
     "output_type": "stream",
     "text": [
      "epoch 133 iter 2: discloss 4.067798 genloss 4.247192 adv_x 1.428762 recons_x 1.401943 \n"
     ]
    },
    {
     "name": "stderr",
     "output_type": "stream",
     "text": [
      "\r",
      " 45%|████▌     | 135/300 [03:21<04:26,  1.61s/it]"
     ]
    },
    {
     "name": "stdout",
     "output_type": "stream",
     "text": [
      "epoch 134 iter 2: discloss 4.082271 genloss 4.235856 adv_x 1.409165 recons_x 1.398156 \n"
     ]
    },
    {
     "name": "stderr",
     "output_type": "stream",
     "text": [
      "\r",
      " 45%|████▌     | 136/300 [03:23<04:20,  1.59s/it]"
     ]
    },
    {
     "name": "stdout",
     "output_type": "stream",
     "text": [
      "epoch 135 iter 2: discloss 4.099631 genloss 4.251052 adv_x 1.437587 recons_x 1.389935 \n"
     ]
    },
    {
     "name": "stderr",
     "output_type": "stream",
     "text": [
      "\r",
      " 46%|████▌     | 137/300 [03:24<04:16,  1.58s/it]"
     ]
    },
    {
     "name": "stdout",
     "output_type": "stream",
     "text": [
      "epoch 136 iter 2: discloss 4.087058 genloss 4.238600 adv_x 1.427945 recons_x 1.392899 \n"
     ]
    },
    {
     "name": "stderr",
     "output_type": "stream",
     "text": [
      "\r",
      " 46%|████▌     | 138/300 [03:26<04:12,  1.56s/it]"
     ]
    },
    {
     "name": "stdout",
     "output_type": "stream",
     "text": [
      "epoch 137 iter 2: discloss 4.088069 genloss 4.247592 adv_x 1.439645 recons_x 1.390865 \n"
     ]
    },
    {
     "name": "stderr",
     "output_type": "stream",
     "text": [
      "\r",
      " 46%|████▋     | 139/300 [03:27<04:09,  1.55s/it]"
     ]
    },
    {
     "name": "stdout",
     "output_type": "stream",
     "text": [
      "epoch 138 iter 2: discloss 4.075920 genloss 4.249635 adv_x 1.426146 recons_x 1.395445 \n"
     ]
    },
    {
     "name": "stderr",
     "output_type": "stream",
     "text": [
      "\r",
      " 47%|████▋     | 140/300 [03:29<04:06,  1.54s/it]"
     ]
    },
    {
     "name": "stdout",
     "output_type": "stream",
     "text": [
      "epoch 139 iter 2: discloss 4.067765 genloss 4.245185 adv_x 1.413108 recons_x 1.397468 \n"
     ]
    },
    {
     "name": "stderr",
     "output_type": "stream",
     "text": [
      "\r",
      " 47%|████▋     | 141/300 [03:30<04:02,  1.53s/it]"
     ]
    },
    {
     "name": "stdout",
     "output_type": "stream",
     "text": [
      "epoch 140 iter 2: discloss 4.099709 genloss 4.226577 adv_x 1.412895 recons_x 1.397354 \n"
     ]
    },
    {
     "name": "stderr",
     "output_type": "stream",
     "text": [
      "\r",
      " 47%|████▋     | 142/300 [03:32<04:01,  1.53s/it]"
     ]
    },
    {
     "name": "stdout",
     "output_type": "stream",
     "text": [
      "epoch 141 iter 2: discloss 4.057356 genloss 4.245821 adv_x 1.424458 recons_x 1.397472 \n"
     ]
    },
    {
     "name": "stderr",
     "output_type": "stream",
     "text": [
      "\r",
      " 48%|████▊     | 143/300 [03:34<04:01,  1.54s/it]"
     ]
    },
    {
     "name": "stdout",
     "output_type": "stream",
     "text": [
      "epoch 142 iter 2: discloss 4.108667 genloss 4.202085 adv_x 1.393004 recons_x 1.395616 \n"
     ]
    },
    {
     "name": "stderr",
     "output_type": "stream",
     "text": [
      "\r",
      " 48%|████▊     | 144/300 [03:35<03:59,  1.54s/it]"
     ]
    },
    {
     "name": "stdout",
     "output_type": "stream",
     "text": [
      "epoch 143 iter 2: discloss 4.133825 genloss 4.226401 adv_x 1.413401 recons_x 1.396385 \n"
     ]
    },
    {
     "name": "stderr",
     "output_type": "stream",
     "text": [
      "\r",
      " 48%|████▊     | 145/300 [03:37<03:58,  1.54s/it]"
     ]
    },
    {
     "name": "stdout",
     "output_type": "stream",
     "text": [
      "epoch 144 iter 2: discloss 4.105457 genloss 4.240204 adv_x 1.425879 recons_x 1.394627 \n"
     ]
    },
    {
     "name": "stderr",
     "output_type": "stream",
     "text": [
      "\r",
      " 49%|████▊     | 146/300 [03:38<03:55,  1.53s/it]"
     ]
    },
    {
     "name": "stdout",
     "output_type": "stream",
     "text": [
      "epoch 145 iter 2: discloss 4.114506 genloss 4.224474 adv_x 1.413047 recons_x 1.395443 \n"
     ]
    },
    {
     "name": "stderr",
     "output_type": "stream",
     "text": [
      "\r",
      " 49%|████▉     | 147/300 [03:40<03:51,  1.52s/it]"
     ]
    },
    {
     "name": "stdout",
     "output_type": "stream",
     "text": [
      "epoch 146 iter 2: discloss 4.106400 genloss 4.243778 adv_x 1.424462 recons_x 1.396148 \n"
     ]
    },
    {
     "name": "stderr",
     "output_type": "stream",
     "text": [
      "\r",
      " 49%|████▉     | 148/300 [03:41<03:49,  1.51s/it]"
     ]
    },
    {
     "name": "stdout",
     "output_type": "stream",
     "text": [
      "epoch 147 iter 2: discloss 4.103790 genloss 4.219571 adv_x 1.421709 recons_x 1.388072 \n"
     ]
    },
    {
     "name": "stderr",
     "output_type": "stream",
     "text": [
      "\r",
      " 50%|████▉     | 149/300 [03:43<03:47,  1.50s/it]"
     ]
    },
    {
     "name": "stdout",
     "output_type": "stream",
     "text": [
      "epoch 148 iter 2: discloss 4.083990 genloss 4.256360 adv_x 1.420493 recons_x 1.399580 \n"
     ]
    },
    {
     "name": "stderr",
     "output_type": "stream",
     "text": [
      "\r",
      " 50%|█████     | 150/300 [03:44<03:45,  1.51s/it]"
     ]
    },
    {
     "name": "stdout",
     "output_type": "stream",
     "text": [
      "epoch 149 iter 2: discloss 4.097835 genloss 4.238946 adv_x 1.423002 recons_x 1.396925 \n"
     ]
    },
    {
     "name": "stderr",
     "output_type": "stream",
     "text": [
      "\r",
      " 50%|█████     | 151/300 [03:46<03:45,  1.51s/it]"
     ]
    },
    {
     "name": "stdout",
     "output_type": "stream",
     "text": [
      "epoch 150 iter 2: discloss 4.109849 genloss 4.252081 adv_x 1.413104 recons_x 1.396926 \n"
     ]
    },
    {
     "name": "stderr",
     "output_type": "stream",
     "text": [
      "\r",
      " 51%|█████     | 152/300 [03:47<03:44,  1.52s/it]"
     ]
    },
    {
     "name": "stdout",
     "output_type": "stream",
     "text": [
      "epoch 151 iter 2: discloss 4.078014 genloss 4.272830 adv_x 1.459964 recons_x 1.394926 \n"
     ]
    },
    {
     "name": "stderr",
     "output_type": "stream",
     "text": [
      "\r",
      " 51%|█████     | 153/300 [03:49<03:42,  1.52s/it]"
     ]
    },
    {
     "name": "stdout",
     "output_type": "stream",
     "text": [
      "epoch 152 iter 2: discloss 4.075792 genloss 4.219871 adv_x 1.375925 recons_x 1.405882 \n"
     ]
    },
    {
     "name": "stderr",
     "output_type": "stream",
     "text": [
      "\r",
      " 51%|█████▏    | 154/300 [03:50<03:41,  1.52s/it]"
     ]
    },
    {
     "name": "stdout",
     "output_type": "stream",
     "text": [
      "epoch 153 iter 2: discloss 4.125279 genloss 4.247019 adv_x 1.434713 recons_x 1.388394 \n"
     ]
    },
    {
     "name": "stderr",
     "output_type": "stream",
     "text": [
      "\r",
      " 52%|█████▏    | 155/300 [03:52<03:43,  1.54s/it]"
     ]
    },
    {
     "name": "stdout",
     "output_type": "stream",
     "text": [
      "epoch 154 iter 2: discloss 4.110465 genloss 4.236963 adv_x 1.421339 recons_x 1.392116 \n"
     ]
    },
    {
     "name": "stderr",
     "output_type": "stream",
     "text": [
      "\r",
      " 52%|█████▏    | 156/300 [03:53<03:43,  1.55s/it]"
     ]
    },
    {
     "name": "stdout",
     "output_type": "stream",
     "text": [
      "epoch 155 iter 2: discloss 4.073770 genloss 4.249869 adv_x 1.409500 recons_x 1.405002 \n"
     ]
    },
    {
     "name": "stderr",
     "output_type": "stream",
     "text": [
      "\r",
      " 52%|█████▏    | 157/300 [03:55<03:43,  1.57s/it]"
     ]
    },
    {
     "name": "stdout",
     "output_type": "stream",
     "text": [
      "epoch 156 iter 2: discloss 4.081362 genloss 4.223948 adv_x 1.409042 recons_x 1.389891 \n"
     ]
    },
    {
     "name": "stderr",
     "output_type": "stream",
     "text": [
      "\r",
      " 53%|█████▎    | 158/300 [03:56<03:39,  1.55s/it]"
     ]
    },
    {
     "name": "stdout",
     "output_type": "stream",
     "text": [
      "epoch 157 iter 2: discloss 4.091809 genloss 4.266733 adv_x 1.418734 recons_x 1.403178 \n"
     ]
    },
    {
     "name": "stderr",
     "output_type": "stream",
     "text": [
      "\r",
      " 53%|█████▎    | 159/300 [03:58<03:37,  1.54s/it]"
     ]
    },
    {
     "name": "stdout",
     "output_type": "stream",
     "text": [
      "epoch 158 iter 2: discloss 4.089967 genloss 4.235461 adv_x 1.400310 recons_x 1.398783 \n"
     ]
    },
    {
     "name": "stderr",
     "output_type": "stream",
     "text": [
      "\r",
      " 53%|█████▎    | 160/300 [04:00<03:37,  1.55s/it]"
     ]
    },
    {
     "name": "stdout",
     "output_type": "stream",
     "text": [
      "epoch 159 iter 2: discloss 4.067515 genloss 4.239903 adv_x 1.406567 recons_x 1.402304 \n"
     ]
    },
    {
     "name": "stderr",
     "output_type": "stream",
     "text": [
      "\r",
      " 54%|█████▎    | 161/300 [04:01<03:35,  1.55s/it]"
     ]
    },
    {
     "name": "stdout",
     "output_type": "stream",
     "text": [
      "epoch 160 iter 2: discloss 4.129090 genloss 4.214584 adv_x 1.373076 recons_x 1.409517 \n"
     ]
    },
    {
     "name": "stderr",
     "output_type": "stream",
     "text": [
      "\r",
      " 54%|█████▍    | 162/300 [04:03<03:32,  1.54s/it]"
     ]
    },
    {
     "name": "stdout",
     "output_type": "stream",
     "text": [
      "epoch 161 iter 2: discloss 4.099833 genloss 4.260014 adv_x 1.421809 recons_x 1.407135 \n"
     ]
    },
    {
     "name": "stderr",
     "output_type": "stream",
     "text": [
      "\r",
      " 54%|█████▍    | 163/300 [04:04<03:31,  1.54s/it]"
     ]
    },
    {
     "name": "stdout",
     "output_type": "stream",
     "text": [
      "epoch 162 iter 2: discloss 4.078650 genloss 4.209690 adv_x 1.400827 recons_x 1.392144 \n"
     ]
    },
    {
     "name": "stderr",
     "output_type": "stream",
     "text": [
      "\r",
      " 55%|█████▍    | 164/300 [04:06<03:28,  1.54s/it]"
     ]
    },
    {
     "name": "stdout",
     "output_type": "stream",
     "text": [
      "epoch 163 iter 2: discloss 4.106432 genloss 4.248573 adv_x 1.440413 recons_x 1.393727 \n"
     ]
    },
    {
     "name": "stderr",
     "output_type": "stream",
     "text": [
      "\r",
      " 55%|█████▌    | 165/300 [04:09<04:58,  2.21s/it]"
     ]
    },
    {
     "name": "stdout",
     "output_type": "stream",
     "text": [
      "epoch 164 iter 2: discloss 4.095755 genloss 4.223112 adv_x 1.397569 recons_x 1.395792 \n"
     ]
    },
    {
     "name": "stderr",
     "output_type": "stream",
     "text": [
      "\r",
      " 55%|█████▌    | 166/300 [04:11<04:30,  2.02s/it]"
     ]
    },
    {
     "name": "stdout",
     "output_type": "stream",
     "text": [
      "epoch 165 iter 2: discloss 4.098243 genloss 4.212009 adv_x 1.417518 recons_x 1.387036 \n"
     ]
    },
    {
     "name": "stderr",
     "output_type": "stream",
     "text": [
      "\r",
      " 56%|█████▌    | 167/300 [04:13<04:09,  1.87s/it]"
     ]
    },
    {
     "name": "stdout",
     "output_type": "stream",
     "text": [
      "epoch 166 iter 2: discloss 4.109546 genloss 4.241141 adv_x 1.405893 recons_x 1.393910 \n"
     ]
    },
    {
     "name": "stderr",
     "output_type": "stream",
     "text": [
      "\r",
      " 56%|█████▌    | 168/300 [04:14<03:50,  1.75s/it]"
     ]
    },
    {
     "name": "stdout",
     "output_type": "stream",
     "text": [
      "epoch 167 iter 2: discloss 4.061726 genloss 4.266675 adv_x 1.437485 recons_x 1.399665 \n"
     ]
    },
    {
     "name": "stderr",
     "output_type": "stream",
     "text": [
      "\r",
      " 56%|█████▋    | 169/300 [04:16<03:39,  1.68s/it]"
     ]
    },
    {
     "name": "stdout",
     "output_type": "stream",
     "text": [
      "epoch 168 iter 2: discloss 4.114428 genloss 4.224204 adv_x 1.381411 recons_x 1.404140 \n"
     ]
    },
    {
     "name": "stderr",
     "output_type": "stream",
     "text": [
      "\r",
      " 57%|█████▋    | 170/300 [04:17<03:33,  1.64s/it]"
     ]
    },
    {
     "name": "stdout",
     "output_type": "stream",
     "text": [
      "epoch 169 iter 2: discloss 4.085966 genloss 4.246556 adv_x 1.421013 recons_x 1.395525 \n"
     ]
    },
    {
     "name": "stderr",
     "output_type": "stream",
     "text": [
      "\r",
      " 57%|█████▋    | 171/300 [04:19<03:27,  1.61s/it]"
     ]
    },
    {
     "name": "stdout",
     "output_type": "stream",
     "text": [
      "epoch 170 iter 2: discloss 4.104389 genloss 4.248486 adv_x 1.426238 recons_x 1.394377 \n"
     ]
    },
    {
     "name": "stderr",
     "output_type": "stream",
     "text": [
      "\r",
      " 57%|█████▋    | 172/300 [04:20<03:24,  1.60s/it]"
     ]
    },
    {
     "name": "stdout",
     "output_type": "stream",
     "text": [
      "epoch 171 iter 2: discloss 4.076863 genloss 4.238629 adv_x 1.425643 recons_x 1.392220 \n"
     ]
    },
    {
     "name": "stderr",
     "output_type": "stream",
     "text": [
      "\r",
      " 58%|█████▊    | 173/300 [04:22<03:19,  1.57s/it]"
     ]
    },
    {
     "name": "stdout",
     "output_type": "stream",
     "text": [
      "epoch 172 iter 2: discloss 4.105229 genloss 4.217868 adv_x 1.408535 recons_x 1.391266 \n"
     ]
    },
    {
     "name": "stderr",
     "output_type": "stream",
     "text": [
      "\r",
      " 58%|█████▊    | 174/300 [04:23<03:15,  1.55s/it]"
     ]
    },
    {
     "name": "stdout",
     "output_type": "stream",
     "text": [
      "epoch 173 iter 2: discloss 4.071678 genloss 4.255715 adv_x 1.428238 recons_x 1.395061 \n"
     ]
    },
    {
     "name": "stderr",
     "output_type": "stream",
     "text": [
      "\r",
      " 58%|█████▊    | 175/300 [04:25<03:14,  1.55s/it]"
     ]
    },
    {
     "name": "stdout",
     "output_type": "stream",
     "text": [
      "epoch 174 iter 2: discloss 4.076159 genloss 4.231191 adv_x 1.415271 recons_x 1.390825 \n"
     ]
    },
    {
     "name": "stderr",
     "output_type": "stream",
     "text": [
      "\r",
      " 59%|█████▊    | 176/300 [04:26<03:11,  1.54s/it]"
     ]
    },
    {
     "name": "stdout",
     "output_type": "stream",
     "text": [
      "epoch 175 iter 2: discloss 4.075579 genloss 4.274099 adv_x 1.416650 recons_x 1.412495 \n"
     ]
    },
    {
     "name": "stderr",
     "output_type": "stream",
     "text": [
      "\r",
      " 59%|█████▉    | 177/300 [04:28<03:09,  1.54s/it]"
     ]
    },
    {
     "name": "stdout",
     "output_type": "stream",
     "text": [
      "epoch 176 iter 2: discloss 4.096768 genloss 4.238585 adv_x 1.404819 recons_x 1.394392 \n"
     ]
    },
    {
     "name": "stderr",
     "output_type": "stream",
     "text": [
      "\r",
      " 59%|█████▉    | 178/300 [04:29<03:06,  1.53s/it]"
     ]
    },
    {
     "name": "stdout",
     "output_type": "stream",
     "text": [
      "epoch 177 iter 2: discloss 4.113089 genloss 4.257217 adv_x 1.416339 recons_x 1.395112 \n"
     ]
    },
    {
     "name": "stderr",
     "output_type": "stream",
     "text": [
      "\r",
      " 60%|█████▉    | 179/300 [04:31<03:05,  1.53s/it]"
     ]
    },
    {
     "name": "stdout",
     "output_type": "stream",
     "text": [
      "epoch 178 iter 2: discloss 4.101404 genloss 4.264292 adv_x 1.446837 recons_x 1.393026 \n"
     ]
    },
    {
     "name": "stderr",
     "output_type": "stream",
     "text": [
      "\r",
      " 60%|██████    | 180/300 [04:32<03:03,  1.53s/it]"
     ]
    },
    {
     "name": "stdout",
     "output_type": "stream",
     "text": [
      "epoch 179 iter 2: discloss 4.084215 genloss 4.202000 adv_x 1.381792 recons_x 1.403149 \n"
     ]
    },
    {
     "name": "stderr",
     "output_type": "stream",
     "text": [
      "\r",
      " 60%|██████    | 181/300 [04:34<03:02,  1.53s/it]"
     ]
    },
    {
     "name": "stdout",
     "output_type": "stream",
     "text": [
      "epoch 180 iter 2: discloss 4.089583 genloss 4.254490 adv_x 1.399547 recons_x 1.401118 \n"
     ]
    },
    {
     "name": "stderr",
     "output_type": "stream",
     "text": [
      "\r",
      " 61%|██████    | 182/300 [04:35<03:01,  1.53s/it]"
     ]
    },
    {
     "name": "stdout",
     "output_type": "stream",
     "text": [
      "epoch 181 iter 2: discloss 4.096186 genloss 4.236857 adv_x 1.429252 recons_x 1.392143 \n"
     ]
    },
    {
     "name": "stderr",
     "output_type": "stream",
     "text": [
      "\r",
      " 61%|██████    | 183/300 [04:37<02:59,  1.54s/it]"
     ]
    },
    {
     "name": "stdout",
     "output_type": "stream",
     "text": [
      "epoch 182 iter 2: discloss 4.103164 genloss 4.244203 adv_x 1.398741 recons_x 1.398726 \n"
     ]
    },
    {
     "name": "stderr",
     "output_type": "stream",
     "text": [
      "\r",
      " 61%|██████▏   | 184/300 [04:39<02:58,  1.54s/it]"
     ]
    },
    {
     "name": "stdout",
     "output_type": "stream",
     "text": [
      "epoch 183 iter 2: discloss 4.100664 genloss 4.239627 adv_x 1.403334 recons_x 1.398803 \n"
     ]
    },
    {
     "name": "stderr",
     "output_type": "stream",
     "text": [
      "\r",
      " 62%|██████▏   | 185/300 [04:40<02:55,  1.53s/it]"
     ]
    },
    {
     "name": "stdout",
     "output_type": "stream",
     "text": [
      "epoch 184 iter 2: discloss 4.056419 genloss 4.275409 adv_x 1.385985 recons_x 1.430768 \n"
     ]
    },
    {
     "name": "stderr",
     "output_type": "stream",
     "text": [
      "\r",
      " 62%|██████▏   | 186/300 [04:42<02:56,  1.55s/it]"
     ]
    },
    {
     "name": "stdout",
     "output_type": "stream",
     "text": [
      "epoch 185 iter 2: discloss 4.070757 genloss 4.225423 adv_x 1.401849 recons_x 1.395871 \n"
     ]
    },
    {
     "name": "stderr",
     "output_type": "stream",
     "text": [
      "\r",
      " 62%|██████▏   | 187/300 [04:43<02:56,  1.56s/it]"
     ]
    },
    {
     "name": "stdout",
     "output_type": "stream",
     "text": [
      "epoch 186 iter 2: discloss 4.101015 genloss 4.249634 adv_x 1.399983 recons_x 1.399295 \n"
     ]
    },
    {
     "name": "stderr",
     "output_type": "stream",
     "text": [
      "\r",
      " 63%|██████▎   | 188/300 [04:45<02:55,  1.57s/it]"
     ]
    },
    {
     "name": "stdout",
     "output_type": "stream",
     "text": [
      "epoch 187 iter 2: discloss 4.069779 genloss 4.246421 adv_x 1.440231 recons_x 1.388468 \n"
     ]
    },
    {
     "name": "stderr",
     "output_type": "stream",
     "text": [
      "\r",
      " 63%|██████▎   | 189/300 [04:46<02:52,  1.56s/it]"
     ]
    },
    {
     "name": "stdout",
     "output_type": "stream",
     "text": [
      "epoch 188 iter 2: discloss 4.071481 genloss 4.230524 adv_x 1.422163 recons_x 1.389726 \n"
     ]
    },
    {
     "name": "stderr",
     "output_type": "stream",
     "text": [
      "\r",
      " 63%|██████▎   | 190/300 [04:48<02:50,  1.55s/it]"
     ]
    },
    {
     "name": "stdout",
     "output_type": "stream",
     "text": [
      "epoch 189 iter 2: discloss 4.073904 genloss 4.238364 adv_x 1.424688 recons_x 1.390011 \n"
     ]
    },
    {
     "name": "stderr",
     "output_type": "stream",
     "text": [
      "\r",
      " 64%|██████▎   | 191/300 [04:49<02:49,  1.55s/it]"
     ]
    },
    {
     "name": "stdout",
     "output_type": "stream",
     "text": [
      "epoch 190 iter 2: discloss 4.117820 genloss 4.228683 adv_x 1.401470 recons_x 1.393872 \n"
     ]
    },
    {
     "name": "stderr",
     "output_type": "stream",
     "text": [
      "\r",
      " 64%|██████▍   | 192/300 [04:51<02:46,  1.54s/it]"
     ]
    },
    {
     "name": "stdout",
     "output_type": "stream",
     "text": [
      "epoch 191 iter 2: discloss 4.058572 genloss 4.279141 adv_x 1.451480 recons_x 1.393635 \n"
     ]
    },
    {
     "name": "stderr",
     "output_type": "stream",
     "text": [
      "\r",
      " 64%|██████▍   | 193/300 [04:52<02:44,  1.53s/it]"
     ]
    },
    {
     "name": "stdout",
     "output_type": "stream",
     "text": [
      "epoch 192 iter 2: discloss 4.111464 genloss 4.206946 adv_x 1.360635 recons_x 1.400553 \n"
     ]
    },
    {
     "name": "stderr",
     "output_type": "stream",
     "text": [
      "\r",
      " 65%|██████▍   | 194/300 [04:54<02:41,  1.52s/it]"
     ]
    },
    {
     "name": "stdout",
     "output_type": "stream",
     "text": [
      "epoch 193 iter 2: discloss 4.092858 genloss 4.253174 adv_x 1.427469 recons_x 1.389126 \n"
     ]
    },
    {
     "name": "stderr",
     "output_type": "stream",
     "text": [
      "\r",
      " 65%|██████▌   | 195/300 [04:56<02:41,  1.53s/it]"
     ]
    },
    {
     "name": "stdout",
     "output_type": "stream",
     "text": [
      "epoch 194 iter 2: discloss 4.031792 genloss 4.296491 adv_x 1.454288 recons_x 1.393388 \n"
     ]
    },
    {
     "name": "stderr",
     "output_type": "stream",
     "text": [
      "\r",
      " 65%|██████▌   | 196/300 [04:57<02:39,  1.54s/it]"
     ]
    },
    {
     "name": "stdout",
     "output_type": "stream",
     "text": [
      "epoch 195 iter 2: discloss 4.085713 genloss 4.261433 adv_x 1.400346 recons_x 1.409160 \n"
     ]
    },
    {
     "name": "stderr",
     "output_type": "stream",
     "text": [
      "\r",
      " 66%|██████▌   | 197/300 [04:59<02:37,  1.53s/it]"
     ]
    },
    {
     "name": "stdout",
     "output_type": "stream",
     "text": [
      "epoch 196 iter 2: discloss 4.076112 genloss 4.260295 adv_x 1.419516 recons_x 1.394420 \n"
     ]
    },
    {
     "name": "stderr",
     "output_type": "stream",
     "text": [
      "\r",
      " 66%|██████▌   | 198/300 [05:00<02:37,  1.55s/it]"
     ]
    },
    {
     "name": "stdout",
     "output_type": "stream",
     "text": [
      "epoch 197 iter 2: discloss 4.054306 genloss 4.274354 adv_x 1.431872 recons_x 1.394987 \n"
     ]
    },
    {
     "name": "stderr",
     "output_type": "stream",
     "text": [
      "\r",
      " 66%|██████▋   | 199/300 [05:02<02:38,  1.57s/it]"
     ]
    },
    {
     "name": "stdout",
     "output_type": "stream",
     "text": [
      "epoch 198 iter 2: discloss 4.049546 genloss 4.270782 adv_x 1.408920 recons_x 1.410908 \n"
     ]
    },
    {
     "name": "stderr",
     "output_type": "stream",
     "text": [
      "\r",
      " 67%|██████▋   | 200/300 [05:03<02:38,  1.59s/it]"
     ]
    },
    {
     "name": "stdout",
     "output_type": "stream",
     "text": [
      "epoch 199 iter 2: discloss 4.096589 genloss 4.249749 adv_x 1.393547 recons_x 1.403307 \n"
     ]
    },
    {
     "name": "stderr",
     "output_type": "stream",
     "text": [
      "\r",
      " 67%|██████▋   | 201/300 [05:05<02:36,  1.58s/it]"
     ]
    },
    {
     "name": "stdout",
     "output_type": "stream",
     "text": [
      "epoch 200 iter 2: discloss 4.117201 genloss 4.250573 adv_x 1.382654 recons_x 1.401699 \n"
     ]
    },
    {
     "name": "stderr",
     "output_type": "stream",
     "text": [
      "\r",
      " 67%|██████▋   | 202/300 [05:06<02:32,  1.56s/it]"
     ]
    },
    {
     "name": "stdout",
     "output_type": "stream",
     "text": [
      "epoch 201 iter 2: discloss 4.113733 genloss 4.223709 adv_x 1.405919 recons_x 1.392730 \n"
     ]
    },
    {
     "name": "stderr",
     "output_type": "stream",
     "text": [
      "\r",
      " 68%|██████▊   | 203/300 [05:08<02:30,  1.56s/it]"
     ]
    },
    {
     "name": "stdout",
     "output_type": "stream",
     "text": [
      "epoch 202 iter 2: discloss 4.102945 genloss 4.242958 adv_x 1.411838 recons_x 1.395120 \n"
     ]
    },
    {
     "name": "stderr",
     "output_type": "stream",
     "text": [
      "\r",
      " 68%|██████▊   | 204/300 [05:10<02:28,  1.55s/it]"
     ]
    },
    {
     "name": "stdout",
     "output_type": "stream",
     "text": [
      "epoch 203 iter 2: discloss 4.099212 genloss 4.247833 adv_x 1.417328 recons_x 1.391134 \n"
     ]
    },
    {
     "name": "stderr",
     "output_type": "stream",
     "text": [
      "\r",
      " 68%|██████▊   | 205/300 [05:11<02:26,  1.54s/it]"
     ]
    },
    {
     "name": "stdout",
     "output_type": "stream",
     "text": [
      "epoch 204 iter 2: discloss 4.098814 genloss 4.232274 adv_x 1.412946 recons_x 1.387656 \n"
     ]
    },
    {
     "name": "stderr",
     "output_type": "stream",
     "text": [
      "\r",
      " 69%|██████▊   | 206/300 [05:13<02:25,  1.54s/it]"
     ]
    },
    {
     "name": "stdout",
     "output_type": "stream",
     "text": [
      "epoch 205 iter 2: discloss 4.093762 genloss 4.272456 adv_x 1.435220 recons_x 1.394161 \n"
     ]
    },
    {
     "name": "stderr",
     "output_type": "stream",
     "text": [
      "\r",
      " 69%|██████▉   | 207/300 [05:14<02:23,  1.54s/it]"
     ]
    },
    {
     "name": "stdout",
     "output_type": "stream",
     "text": [
      "epoch 206 iter 2: discloss 4.087252 genloss 4.229012 adv_x 1.390160 recons_x 1.395155 \n"
     ]
    },
    {
     "name": "stderr",
     "output_type": "stream",
     "text": [
      "\r",
      " 69%|██████▉   | 208/300 [05:16<02:20,  1.53s/it]"
     ]
    },
    {
     "name": "stdout",
     "output_type": "stream",
     "text": [
      "epoch 207 iter 2: discloss 4.111645 genloss 4.244707 adv_x 1.418156 recons_x 1.394694 \n"
     ]
    },
    {
     "name": "stderr",
     "output_type": "stream",
     "text": [
      "\r",
      " 70%|██████▉   | 209/300 [05:17<02:17,  1.52s/it]"
     ]
    },
    {
     "name": "stdout",
     "output_type": "stream",
     "text": [
      "epoch 208 iter 2: discloss 4.068333 genloss 4.256522 adv_x 1.414406 recons_x 1.393956 \n"
     ]
    },
    {
     "name": "stderr",
     "output_type": "stream",
     "text": [
      "\r",
      " 70%|███████   | 210/300 [05:19<02:16,  1.52s/it]"
     ]
    },
    {
     "name": "stdout",
     "output_type": "stream",
     "text": [
      "epoch 209 iter 2: discloss 4.117441 genloss 4.246587 adv_x 1.409210 recons_x 1.388934 \n"
     ]
    },
    {
     "name": "stderr",
     "output_type": "stream",
     "text": [
      "\r",
      " 70%|███████   | 211/300 [05:20<02:15,  1.53s/it]"
     ]
    },
    {
     "name": "stdout",
     "output_type": "stream",
     "text": [
      "epoch 210 iter 2: discloss 4.089451 genloss 4.252253 adv_x 1.434983 recons_x 1.391613 \n"
     ]
    },
    {
     "name": "stderr",
     "output_type": "stream",
     "text": [
      "\r",
      " 71%|███████   | 212/300 [05:22<02:14,  1.53s/it]"
     ]
    },
    {
     "name": "stdout",
     "output_type": "stream",
     "text": [
      "epoch 211 iter 2: discloss 4.039667 genloss 4.248177 adv_x 1.414732 recons_x 1.396730 \n"
     ]
    },
    {
     "name": "stderr",
     "output_type": "stream",
     "text": [
      "\r",
      " 71%|███████   | 213/300 [05:23<02:12,  1.52s/it]"
     ]
    },
    {
     "name": "stdout",
     "output_type": "stream",
     "text": [
      "epoch 212 iter 2: discloss 4.119017 genloss 4.251468 adv_x 1.390784 recons_x 1.397638 \n"
     ]
    },
    {
     "name": "stderr",
     "output_type": "stream",
     "text": [
      "\r",
      " 71%|███████▏  | 214/300 [05:25<02:10,  1.52s/it]"
     ]
    },
    {
     "name": "stdout",
     "output_type": "stream",
     "text": [
      "epoch 213 iter 2: discloss 4.110760 genloss 4.225726 adv_x 1.402127 recons_x 1.392381 \n"
     ]
    },
    {
     "name": "stderr",
     "output_type": "stream",
     "text": [
      "\r",
      " 72%|███████▏  | 215/300 [05:26<02:09,  1.52s/it]"
     ]
    },
    {
     "name": "stdout",
     "output_type": "stream",
     "text": [
      "epoch 214 iter 2: discloss 4.095645 genloss 4.251109 adv_x 1.419230 recons_x 1.390269 \n"
     ]
    },
    {
     "name": "stderr",
     "output_type": "stream",
     "text": [
      "\r",
      " 72%|███████▏  | 216/300 [05:28<02:05,  1.50s/it]"
     ]
    },
    {
     "name": "stdout",
     "output_type": "stream",
     "text": [
      "epoch 215 iter 2: discloss 4.067824 genloss 4.270538 adv_x 1.424414 recons_x 1.394224 \n"
     ]
    },
    {
     "name": "stderr",
     "output_type": "stream",
     "text": [
      "\r",
      " 72%|███████▏  | 217/300 [05:29<02:09,  1.56s/it]"
     ]
    },
    {
     "name": "stdout",
     "output_type": "stream",
     "text": [
      "epoch 216 iter 2: discloss 4.107268 genloss 4.252416 adv_x 1.427970 recons_x 1.391213 \n"
     ]
    },
    {
     "name": "stderr",
     "output_type": "stream",
     "text": [
      "\r",
      " 73%|███████▎  | 218/300 [05:31<02:02,  1.50s/it]"
     ]
    },
    {
     "name": "stdout",
     "output_type": "stream",
     "text": [
      "epoch 217 iter 2: discloss 4.063548 genloss 4.254574 adv_x 1.417445 recons_x 1.391513 \n"
     ]
    },
    {
     "name": "stderr",
     "output_type": "stream",
     "text": [
      "\r",
      " 73%|███████▎  | 219/300 [05:32<01:56,  1.44s/it]"
     ]
    },
    {
     "name": "stdout",
     "output_type": "stream",
     "text": [
      "epoch 218 iter 2: discloss 4.096974 genloss 4.260822 adv_x 1.396787 recons_x 1.395149 \n"
     ]
    },
    {
     "name": "stderr",
     "output_type": "stream",
     "text": [
      "\r",
      " 73%|███████▎  | 220/300 [05:33<01:52,  1.40s/it]"
     ]
    },
    {
     "name": "stdout",
     "output_type": "stream",
     "text": [
      "epoch 219 iter 2: discloss 4.073236 genloss 4.255979 adv_x 1.410703 recons_x 1.397756 \n"
     ]
    },
    {
     "name": "stderr",
     "output_type": "stream",
     "text": [
      "\r",
      " 74%|███████▎  | 221/300 [05:35<01:50,  1.39s/it]"
     ]
    },
    {
     "name": "stdout",
     "output_type": "stream",
     "text": [
      "epoch 220 iter 2: discloss 4.089959 genloss 4.245977 adv_x 1.419752 recons_x 1.391493 \n"
     ]
    },
    {
     "name": "stderr",
     "output_type": "stream",
     "text": [
      "\r",
      " 74%|███████▍  | 222/300 [05:36<01:48,  1.39s/it]"
     ]
    },
    {
     "name": "stdout",
     "output_type": "stream",
     "text": [
      "epoch 221 iter 2: discloss 4.111015 genloss 4.220964 adv_x 1.408821 recons_x 1.388796 \n"
     ]
    },
    {
     "name": "stderr",
     "output_type": "stream",
     "text": [
      "\r",
      " 74%|███████▍  | 223/300 [05:38<01:48,  1.40s/it]"
     ]
    },
    {
     "name": "stdout",
     "output_type": "stream",
     "text": [
      "epoch 222 iter 2: discloss 4.073153 genloss 4.255703 adv_x 1.395956 recons_x 1.401495 \n"
     ]
    },
    {
     "name": "stderr",
     "output_type": "stream",
     "text": [
      "\r",
      " 75%|███████▍  | 224/300 [05:39<01:51,  1.47s/it]"
     ]
    },
    {
     "name": "stdout",
     "output_type": "stream",
     "text": [
      "epoch 223 iter 2: discloss 4.064416 genloss 4.255733 adv_x 1.402038 recons_x 1.393388 \n"
     ]
    },
    {
     "name": "stderr",
     "output_type": "stream",
     "text": [
      "\r",
      " 75%|███████▌  | 225/300 [05:41<01:51,  1.49s/it]"
     ]
    },
    {
     "name": "stdout",
     "output_type": "stream",
     "text": [
      "epoch 224 iter 2: discloss 4.108663 genloss 4.245134 adv_x 1.413070 recons_x 1.392045 \n"
     ]
    },
    {
     "name": "stderr",
     "output_type": "stream",
     "text": [
      "\r",
      " 75%|███████▌  | 226/300 [05:42<01:51,  1.51s/it]"
     ]
    },
    {
     "name": "stdout",
     "output_type": "stream",
     "text": [
      "epoch 225 iter 2: discloss 4.126070 genloss 4.219656 adv_x 1.381076 recons_x 1.394520 \n"
     ]
    },
    {
     "name": "stderr",
     "output_type": "stream",
     "text": [
      "\r",
      " 76%|███████▌  | 227/300 [05:44<01:52,  1.54s/it]"
     ]
    },
    {
     "name": "stdout",
     "output_type": "stream",
     "text": [
      "epoch 226 iter 2: discloss 4.088994 genloss 4.223358 adv_x 1.411684 recons_x 1.389716 \n"
     ]
    },
    {
     "name": "stderr",
     "output_type": "stream",
     "text": [
      "\r",
      " 76%|███████▌  | 228/300 [05:46<01:53,  1.57s/it]"
     ]
    },
    {
     "name": "stdout",
     "output_type": "stream",
     "text": [
      "epoch 227 iter 2: discloss 4.080747 genloss 4.236816 adv_x 1.394205 recons_x 1.394222 \n"
     ]
    },
    {
     "name": "stderr",
     "output_type": "stream",
     "text": [
      "\r",
      " 76%|███████▋  | 229/300 [05:47<01:56,  1.64s/it]"
     ]
    },
    {
     "name": "stdout",
     "output_type": "stream",
     "text": [
      "epoch 228 iter 2: discloss 4.123587 genloss 4.245653 adv_x 1.394701 recons_x 1.394745 \n"
     ]
    },
    {
     "name": "stderr",
     "output_type": "stream",
     "text": [
      "\r",
      " 77%|███████▋  | 230/300 [05:49<01:54,  1.63s/it]"
     ]
    },
    {
     "name": "stdout",
     "output_type": "stream",
     "text": [
      "epoch 229 iter 2: discloss 4.085591 genloss 4.250600 adv_x 1.412280 recons_x 1.392154 \n"
     ]
    },
    {
     "name": "stderr",
     "output_type": "stream",
     "text": [
      "\r",
      " 77%|███████▋  | 231/300 [05:51<01:52,  1.64s/it]"
     ]
    },
    {
     "name": "stdout",
     "output_type": "stream",
     "text": [
      "epoch 230 iter 2: discloss 4.094462 genloss 4.224322 adv_x 1.402272 recons_x 1.389407 \n"
     ]
    },
    {
     "name": "stderr",
     "output_type": "stream",
     "text": [
      "\r",
      " 77%|███████▋  | 232/300 [05:52<01:49,  1.60s/it]"
     ]
    },
    {
     "name": "stdout",
     "output_type": "stream",
     "text": [
      "epoch 231 iter 2: discloss 4.058592 genloss 4.262727 adv_x 1.408753 recons_x 1.396157 \n"
     ]
    },
    {
     "name": "stderr",
     "output_type": "stream",
     "text": [
      "\r",
      " 78%|███████▊  | 233/300 [05:54<01:46,  1.58s/it]"
     ]
    },
    {
     "name": "stdout",
     "output_type": "stream",
     "text": [
      "epoch 232 iter 2: discloss 4.099067 genloss 4.218956 adv_x 1.398584 recons_x 1.387481 \n"
     ]
    },
    {
     "name": "stderr",
     "output_type": "stream",
     "text": [
      "\r",
      " 78%|███████▊  | 234/300 [05:55<01:43,  1.56s/it]"
     ]
    },
    {
     "name": "stdout",
     "output_type": "stream",
     "text": [
      "epoch 233 iter 2: discloss 4.078864 genloss 4.255809 adv_x 1.420341 recons_x 1.395030 \n"
     ]
    },
    {
     "name": "stderr",
     "output_type": "stream",
     "text": [
      "\r",
      " 78%|███████▊  | 235/300 [05:57<01:40,  1.54s/it]"
     ]
    },
    {
     "name": "stdout",
     "output_type": "stream",
     "text": [
      "epoch 234 iter 2: discloss 4.067889 genloss 4.242418 adv_x 1.394895 recons_x 1.395008 \n"
     ]
    },
    {
     "name": "stderr",
     "output_type": "stream",
     "text": [
      "\r",
      " 79%|███████▊  | 236/300 [05:58<01:38,  1.54s/it]"
     ]
    },
    {
     "name": "stdout",
     "output_type": "stream",
     "text": [
      "epoch 235 iter 2: discloss 4.067305 genloss 4.230606 adv_x 1.406082 recons_x 1.396096 \n"
     ]
    },
    {
     "name": "stderr",
     "output_type": "stream",
     "text": [
      "\r",
      " 79%|███████▉  | 237/300 [06:00<01:36,  1.53s/it]"
     ]
    },
    {
     "name": "stdout",
     "output_type": "stream",
     "text": [
      "epoch 236 iter 2: discloss 4.046340 genloss 4.251153 adv_x 1.421876 recons_x 1.388751 \n"
     ]
    },
    {
     "name": "stderr",
     "output_type": "stream",
     "text": [
      "\r",
      " 79%|███████▉  | 238/300 [06:01<01:34,  1.53s/it]"
     ]
    },
    {
     "name": "stdout",
     "output_type": "stream",
     "text": [
      "epoch 237 iter 2: discloss 4.088428 genloss 4.218460 adv_x 1.398213 recons_x 1.387320 \n"
     ]
    },
    {
     "name": "stderr",
     "output_type": "stream",
     "text": [
      "\r",
      " 80%|███████▉  | 239/300 [06:03<01:32,  1.52s/it]"
     ]
    },
    {
     "name": "stdout",
     "output_type": "stream",
     "text": [
      "epoch 238 iter 2: discloss 4.093818 genloss 4.242126 adv_x 1.429921 recons_x 1.388360 \n"
     ]
    },
    {
     "name": "stderr",
     "output_type": "stream",
     "text": [
      "\r",
      " 80%|████████  | 240/300 [06:04<01:32,  1.54s/it]"
     ]
    },
    {
     "name": "stdout",
     "output_type": "stream",
     "text": [
      "epoch 239 iter 2: discloss 4.043788 genloss 4.282204 adv_x 1.416164 recons_x 1.399370 \n"
     ]
    },
    {
     "name": "stderr",
     "output_type": "stream",
     "text": [
      "\r",
      " 80%|████████  | 241/300 [06:06<01:30,  1.54s/it]"
     ]
    },
    {
     "name": "stdout",
     "output_type": "stream",
     "text": [
      "epoch 240 iter 2: discloss 4.114688 genloss 4.196395 adv_x 1.382110 recons_x 1.390112 \n"
     ]
    },
    {
     "name": "stderr",
     "output_type": "stream",
     "text": [
      "\r",
      " 81%|████████  | 242/300 [06:07<01:29,  1.54s/it]"
     ]
    },
    {
     "name": "stdout",
     "output_type": "stream",
     "text": [
      "epoch 241 iter 2: discloss 4.082644 genloss 4.244415 adv_x 1.406024 recons_x 1.392495 \n"
     ]
    },
    {
     "name": "stderr",
     "output_type": "stream",
     "text": [
      "\r",
      " 81%|████████  | 243/300 [06:09<01:24,  1.48s/it]"
     ]
    },
    {
     "name": "stdout",
     "output_type": "stream",
     "text": [
      "epoch 242 iter 2: discloss 4.069417 genloss 4.235329 adv_x 1.430851 recons_x 1.387949 \n"
     ]
    },
    {
     "name": "stderr",
     "output_type": "stream",
     "text": [
      "\r",
      " 81%|████████▏ | 244/300 [06:10<01:21,  1.45s/it]"
     ]
    },
    {
     "name": "stdout",
     "output_type": "stream",
     "text": [
      "epoch 243 iter 2: discloss 4.096244 genloss 4.233075 adv_x 1.408807 recons_x 1.390798 \n"
     ]
    },
    {
     "name": "stderr",
     "output_type": "stream",
     "text": [
      "\r",
      " 82%|████████▏ | 245/300 [06:12<01:21,  1.48s/it]"
     ]
    },
    {
     "name": "stdout",
     "output_type": "stream",
     "text": [
      "epoch 244 iter 2: discloss 4.096750 genloss 4.247740 adv_x 1.426767 recons_x 1.389681 \n"
     ]
    },
    {
     "name": "stderr",
     "output_type": "stream",
     "text": [
      "\r",
      " 82%|████████▏ | 246/300 [06:13<01:18,  1.46s/it]"
     ]
    },
    {
     "name": "stdout",
     "output_type": "stream",
     "text": [
      "epoch 245 iter 2: discloss 4.068139 genloss 4.249121 adv_x 1.421470 recons_x 1.388863 \n"
     ]
    },
    {
     "name": "stderr",
     "output_type": "stream",
     "text": [
      "\r",
      " 82%|████████▏ | 247/300 [06:14<01:15,  1.42s/it]"
     ]
    },
    {
     "name": "stdout",
     "output_type": "stream",
     "text": [
      "epoch 246 iter 2: discloss 4.102934 genloss 4.269419 adv_x 1.417039 recons_x 1.392054 \n"
     ]
    },
    {
     "name": "stderr",
     "output_type": "stream",
     "text": [
      "\r",
      " 83%|████████▎ | 248/300 [06:16<01:11,  1.38s/it]"
     ]
    },
    {
     "name": "stdout",
     "output_type": "stream",
     "text": [
      "epoch 247 iter 2: discloss 4.081074 genloss 4.249293 adv_x 1.395247 recons_x 1.402581 \n"
     ]
    },
    {
     "name": "stderr",
     "output_type": "stream",
     "text": [
      "\r",
      " 83%|████████▎ | 249/300 [06:17<01:08,  1.35s/it]"
     ]
    },
    {
     "name": "stdout",
     "output_type": "stream",
     "text": [
      "epoch 248 iter 2: discloss 4.094160 genloss 4.301042 adv_x 1.425051 recons_x 1.393042 \n"
     ]
    },
    {
     "name": "stderr",
     "output_type": "stream",
     "text": [
      "\r",
      " 83%|████████▎ | 250/300 [06:18<01:06,  1.33s/it]"
     ]
    },
    {
     "name": "stdout",
     "output_type": "stream",
     "text": [
      "epoch 249 iter 2: discloss 4.058464 genloss 4.250615 adv_x 1.423345 recons_x 1.390678 \n"
     ]
    },
    {
     "name": "stderr",
     "output_type": "stream",
     "text": [
      "\r",
      " 84%|████████▎ | 251/300 [06:20<01:04,  1.31s/it]"
     ]
    },
    {
     "name": "stdout",
     "output_type": "stream",
     "text": [
      "epoch 250 iter 2: discloss 4.097438 genloss 4.241498 adv_x 1.416967 recons_x 1.389669 \n"
     ]
    },
    {
     "name": "stderr",
     "output_type": "stream",
     "text": [
      "\r",
      " 84%|████████▍ | 252/300 [06:21<01:02,  1.31s/it]"
     ]
    },
    {
     "name": "stdout",
     "output_type": "stream",
     "text": [
      "epoch 251 iter 2: discloss 4.105158 genloss 4.241421 adv_x 1.403225 recons_x 1.391125 \n"
     ]
    },
    {
     "name": "stderr",
     "output_type": "stream",
     "text": [
      "\r",
      " 84%|████████▍ | 253/300 [06:22<01:01,  1.31s/it]"
     ]
    },
    {
     "name": "stdout",
     "output_type": "stream",
     "text": [
      "epoch 252 iter 2: discloss 4.083147 genloss 4.246469 adv_x 1.414086 recons_x 1.391784 \n"
     ]
    },
    {
     "name": "stderr",
     "output_type": "stream",
     "text": [
      "\r",
      " 85%|████████▍ | 254/300 [06:23<01:00,  1.31s/it]"
     ]
    },
    {
     "name": "stdout",
     "output_type": "stream",
     "text": [
      "epoch 253 iter 2: discloss 4.052218 genloss 4.229998 adv_x 1.401377 recons_x 1.390583 \n"
     ]
    },
    {
     "name": "stderr",
     "output_type": "stream",
     "text": [
      "\r",
      " 85%|████████▌ | 255/300 [06:25<00:58,  1.31s/it]"
     ]
    },
    {
     "name": "stdout",
     "output_type": "stream",
     "text": [
      "epoch 254 iter 2: discloss 4.109378 genloss 4.239003 adv_x 1.392113 recons_x 1.392005 \n"
     ]
    },
    {
     "name": "stderr",
     "output_type": "stream",
     "text": [
      "\r",
      " 85%|████████▌ | 256/300 [06:26<00:57,  1.30s/it]"
     ]
    },
    {
     "name": "stdout",
     "output_type": "stream",
     "text": [
      "epoch 255 iter 2: discloss 4.124558 genloss 4.307107 adv_x 1.421752 recons_x 1.388179 \n"
     ]
    },
    {
     "name": "stderr",
     "output_type": "stream",
     "text": [
      "\r",
      " 86%|████████▌ | 257/300 [06:28<00:57,  1.34s/it]"
     ]
    },
    {
     "name": "stdout",
     "output_type": "stream",
     "text": [
      "epoch 256 iter 2: discloss 4.091987 genloss 4.226009 adv_x 1.412559 recons_x 1.388083 \n"
     ]
    },
    {
     "name": "stderr",
     "output_type": "stream",
     "text": [
      "\r",
      " 86%|████████▌ | 258/300 [06:29<00:55,  1.32s/it]"
     ]
    },
    {
     "name": "stdout",
     "output_type": "stream",
     "text": [
      "epoch 257 iter 2: discloss 4.096072 genloss 4.268951 adv_x 1.411438 recons_x 1.392972 \n"
     ]
    },
    {
     "name": "stderr",
     "output_type": "stream",
     "text": [
      "\r",
      " 86%|████████▋ | 259/300 [06:30<00:53,  1.31s/it]"
     ]
    },
    {
     "name": "stdout",
     "output_type": "stream",
     "text": [
      "epoch 258 iter 2: discloss 4.088763 genloss 4.281313 adv_x 1.423905 recons_x 1.392971 \n"
     ]
    },
    {
     "name": "stderr",
     "output_type": "stream",
     "text": [
      "\r",
      " 87%|████████▋ | 260/300 [06:31<00:52,  1.30s/it]"
     ]
    },
    {
     "name": "stdout",
     "output_type": "stream",
     "text": [
      "epoch 259 iter 2: discloss 4.089601 genloss 4.263681 adv_x 1.410044 recons_x 1.391790 \n"
     ]
    },
    {
     "name": "stderr",
     "output_type": "stream",
     "text": [
      "\r",
      " 87%|████████▋ | 261/300 [06:33<00:50,  1.30s/it]"
     ]
    },
    {
     "name": "stdout",
     "output_type": "stream",
     "text": [
      "epoch 260 iter 2: discloss 4.080333 genloss 4.292873 adv_x 1.419420 recons_x 1.391702 \n"
     ]
    },
    {
     "name": "stderr",
     "output_type": "stream",
     "text": [
      "\r",
      " 87%|████████▋ | 262/300 [06:34<00:48,  1.29s/it]"
     ]
    },
    {
     "name": "stdout",
     "output_type": "stream",
     "text": [
      "epoch 261 iter 2: discloss 4.089382 genloss 4.245198 adv_x 1.398372 recons_x 1.391849 \n"
     ]
    },
    {
     "name": "stderr",
     "output_type": "stream",
     "text": [
      "\r",
      " 88%|████████▊ | 263/300 [06:35<00:47,  1.28s/it]"
     ]
    },
    {
     "name": "stdout",
     "output_type": "stream",
     "text": [
      "epoch 262 iter 2: discloss 4.074930 genloss 4.276161 adv_x 1.418075 recons_x 1.394599 \n"
     ]
    },
    {
     "name": "stderr",
     "output_type": "stream",
     "text": [
      "\r",
      " 88%|████████▊ | 264/300 [06:37<00:48,  1.35s/it]"
     ]
    },
    {
     "name": "stdout",
     "output_type": "stream",
     "text": [
      "epoch 263 iter 2: discloss 4.005622 genloss 4.254484 adv_x 1.423563 recons_x 1.391912 \n"
     ]
    },
    {
     "name": "stderr",
     "output_type": "stream",
     "text": [
      "\r",
      " 88%|████████▊ | 265/300 [06:38<00:46,  1.34s/it]"
     ]
    },
    {
     "name": "stdout",
     "output_type": "stream",
     "text": [
      "epoch 264 iter 2: discloss 4.069981 genloss 4.263129 adv_x 1.403899 recons_x 1.393993 \n"
     ]
    },
    {
     "name": "stderr",
     "output_type": "stream",
     "text": [
      "\r",
      " 89%|████████▊ | 266/300 [06:39<00:45,  1.33s/it]"
     ]
    },
    {
     "name": "stdout",
     "output_type": "stream",
     "text": [
      "epoch 265 iter 2: discloss 4.051967 genloss 4.226306 adv_x 1.420237 recons_x 1.385208 \n"
     ]
    },
    {
     "name": "stderr",
     "output_type": "stream",
     "text": [
      "\r",
      " 89%|████████▉ | 267/300 [06:41<00:43,  1.32s/it]"
     ]
    },
    {
     "name": "stdout",
     "output_type": "stream",
     "text": [
      "epoch 266 iter 2: discloss 4.059539 genloss 4.275700 adv_x 1.423087 recons_x 1.393775 \n"
     ]
    },
    {
     "name": "stderr",
     "output_type": "stream",
     "text": [
      "\r",
      " 89%|████████▉ | 268/300 [06:42<00:42,  1.34s/it]"
     ]
    },
    {
     "name": "stdout",
     "output_type": "stream",
     "text": [
      "epoch 267 iter 2: discloss 4.071441 genloss 4.257740 adv_x 1.425815 recons_x 1.390873 \n"
     ]
    },
    {
     "name": "stderr",
     "output_type": "stream",
     "text": [
      "\r",
      " 90%|████████▉ | 269/300 [06:43<00:42,  1.38s/it]"
     ]
    },
    {
     "name": "stdout",
     "output_type": "stream",
     "text": [
      "epoch 268 iter 2: discloss 4.057276 genloss 4.254687 adv_x 1.389697 recons_x 1.397864 \n"
     ]
    },
    {
     "name": "stderr",
     "output_type": "stream",
     "text": [
      "\r",
      " 90%|█████████ | 270/300 [06:45<00:42,  1.41s/it]"
     ]
    },
    {
     "name": "stdout",
     "output_type": "stream",
     "text": [
      "epoch 269 iter 2: discloss 4.078851 genloss 4.246432 adv_x 1.429240 recons_x 1.390943 \n"
     ]
    },
    {
     "name": "stderr",
     "output_type": "stream",
     "text": [
      "\r",
      " 90%|█████████ | 271/300 [06:46<00:41,  1.43s/it]"
     ]
    },
    {
     "name": "stdout",
     "output_type": "stream",
     "text": [
      "epoch 270 iter 2: discloss 4.083139 genloss 4.249438 adv_x 1.429844 recons_x 1.388647 \n"
     ]
    },
    {
     "name": "stderr",
     "output_type": "stream",
     "text": [
      "\r",
      " 91%|█████████ | 272/300 [06:48<00:40,  1.45s/it]"
     ]
    },
    {
     "name": "stdout",
     "output_type": "stream",
     "text": [
      "epoch 271 iter 2: discloss 4.088855 genloss 4.267666 adv_x 1.383038 recons_x 1.395270 \n"
     ]
    },
    {
     "name": "stderr",
     "output_type": "stream",
     "text": [
      "\r",
      " 91%|█████████ | 273/300 [06:50<00:45,  1.67s/it]"
     ]
    },
    {
     "name": "stdout",
     "output_type": "stream",
     "text": [
      "epoch 272 iter 2: discloss 4.064669 genloss 4.285182 adv_x 1.423605 recons_x 1.395178 \n"
     ]
    },
    {
     "name": "stderr",
     "output_type": "stream",
     "text": [
      "\r",
      " 91%|█████████▏| 274/300 [06:52<00:47,  1.82s/it]"
     ]
    },
    {
     "name": "stdout",
     "output_type": "stream",
     "text": [
      "epoch 273 iter 2: discloss 4.061424 genloss 4.305530 adv_x 1.447009 recons_x 1.389307 \n"
     ]
    },
    {
     "name": "stderr",
     "output_type": "stream",
     "text": [
      "\r",
      " 92%|█████████▏| 275/300 [06:54<00:46,  1.87s/it]"
     ]
    },
    {
     "name": "stdout",
     "output_type": "stream",
     "text": [
      "epoch 274 iter 2: discloss 4.061675 genloss 4.264143 adv_x 1.364554 recons_x 1.414434 \n"
     ]
    },
    {
     "name": "stderr",
     "output_type": "stream",
     "text": [
      "\r",
      " 92%|█████████▏| 276/300 [06:56<00:45,  1.90s/it]"
     ]
    },
    {
     "name": "stdout",
     "output_type": "stream",
     "text": [
      "epoch 275 iter 2: discloss 4.145048 genloss 4.253070 adv_x 1.385121 recons_x 1.389853 \n"
     ]
    },
    {
     "name": "stderr",
     "output_type": "stream",
     "text": [
      "\r",
      " 92%|█████████▏| 277/300 [06:58<00:44,  1.93s/it]"
     ]
    },
    {
     "name": "stdout",
     "output_type": "stream",
     "text": [
      "epoch 276 iter 2: discloss 4.060485 genloss 4.306304 adv_x 1.450194 recons_x 1.393571 \n"
     ]
    },
    {
     "name": "stderr",
     "output_type": "stream",
     "text": [
      "\r",
      " 93%|█████████▎| 278/300 [07:00<00:42,  1.93s/it]"
     ]
    },
    {
     "name": "stdout",
     "output_type": "stream",
     "text": [
      "epoch 277 iter 2: discloss 4.081688 genloss 4.245076 adv_x 1.401621 recons_x 1.394461 \n"
     ]
    },
    {
     "name": "stderr",
     "output_type": "stream",
     "text": [
      "\r",
      " 93%|█████████▎| 279/300 [07:02<00:39,  1.87s/it]"
     ]
    },
    {
     "name": "stdout",
     "output_type": "stream",
     "text": [
      "epoch 278 iter 2: discloss 4.106506 genloss 4.225499 adv_x 1.381300 recons_x 1.389087 \n"
     ]
    },
    {
     "name": "stderr",
     "output_type": "stream",
     "text": [
      "\r",
      " 93%|█████████▎| 280/300 [07:04<00:37,  1.85s/it]"
     ]
    },
    {
     "name": "stdout",
     "output_type": "stream",
     "text": [
      "epoch 279 iter 2: discloss 4.127622 genloss 4.219090 adv_x 1.385148 recons_x 1.388656 \n"
     ]
    },
    {
     "name": "stderr",
     "output_type": "stream",
     "text": [
      "\r",
      " 94%|█████████▎| 281/300 [07:06<00:35,  1.88s/it]"
     ]
    },
    {
     "name": "stdout",
     "output_type": "stream",
     "text": [
      "epoch 280 iter 2: discloss 4.055857 genloss 4.294651 adv_x 1.446822 recons_x 1.389289 \n"
     ]
    },
    {
     "name": "stderr",
     "output_type": "stream",
     "text": [
      "\r",
      " 94%|█████████▍| 282/300 [07:08<00:34,  1.94s/it]"
     ]
    },
    {
     "name": "stdout",
     "output_type": "stream",
     "text": [
      "epoch 281 iter 2: discloss 4.063652 genloss 4.294923 adv_x 1.424991 recons_x 1.387829 \n"
     ]
    },
    {
     "name": "stderr",
     "output_type": "stream",
     "text": [
      "\r",
      " 94%|█████████▍| 283/300 [07:10<00:33,  1.97s/it]"
     ]
    },
    {
     "name": "stdout",
     "output_type": "stream",
     "text": [
      "epoch 282 iter 2: discloss 4.089551 genloss 4.207731 adv_x 1.368577 recons_x 1.391359 \n"
     ]
    },
    {
     "name": "stderr",
     "output_type": "stream",
     "text": [
      "\r",
      " 95%|█████████▍| 284/300 [07:11<00:29,  1.85s/it]"
     ]
    },
    {
     "name": "stdout",
     "output_type": "stream",
     "text": [
      "epoch 283 iter 2: discloss 4.086044 genloss 4.228694 adv_x 1.395250 recons_x 1.390478 \n"
     ]
    },
    {
     "name": "stderr",
     "output_type": "stream",
     "text": [
      "\r",
      " 95%|█████████▌| 285/300 [07:13<00:26,  1.75s/it]"
     ]
    },
    {
     "name": "stdout",
     "output_type": "stream",
     "text": [
      "epoch 284 iter 2: discloss 4.055822 genloss 4.298628 adv_x 1.415943 recons_x 1.392453 \n"
     ]
    },
    {
     "name": "stderr",
     "output_type": "stream",
     "text": [
      "\r",
      " 95%|█████████▌| 286/300 [07:14<00:23,  1.69s/it]"
     ]
    },
    {
     "name": "stdout",
     "output_type": "stream",
     "text": [
      "epoch 285 iter 2: discloss 4.068219 genloss 4.293796 adv_x 1.412067 recons_x 1.394260 \n"
     ]
    },
    {
     "name": "stderr",
     "output_type": "stream",
     "text": [
      "\r",
      " 96%|█████████▌| 287/300 [07:16<00:21,  1.65s/it]"
     ]
    },
    {
     "name": "stdout",
     "output_type": "stream",
     "text": [
      "epoch 286 iter 2: discloss 4.050059 genloss 4.247504 adv_x 1.391829 recons_x 1.392489 \n"
     ]
    },
    {
     "name": "stderr",
     "output_type": "stream",
     "text": [
      "\r",
      " 96%|█████████▌| 288/300 [07:18<00:20,  1.67s/it]"
     ]
    },
    {
     "name": "stdout",
     "output_type": "stream",
     "text": [
      "epoch 287 iter 2: discloss 4.074183 genloss 4.283338 adv_x 1.423308 recons_x 1.390550 \n"
     ]
    },
    {
     "name": "stderr",
     "output_type": "stream",
     "text": [
      "\r",
      " 96%|█████████▋| 289/300 [07:19<00:18,  1.66s/it]"
     ]
    },
    {
     "name": "stdout",
     "output_type": "stream",
     "text": [
      "epoch 288 iter 2: discloss 4.046959 genloss 4.248335 adv_x 1.435086 recons_x 1.387243 \n"
     ]
    },
    {
     "name": "stderr",
     "output_type": "stream",
     "text": [
      "\r",
      " 97%|█████████▋| 290/300 [07:21<00:16,  1.64s/it]"
     ]
    },
    {
     "name": "stdout",
     "output_type": "stream",
     "text": [
      "epoch 289 iter 2: discloss 4.105108 genloss 4.234091 adv_x 1.419320 recons_x 1.388478 \n"
     ]
    },
    {
     "name": "stderr",
     "output_type": "stream",
     "text": [
      "\r",
      " 97%|█████████▋| 291/300 [07:22<00:14,  1.61s/it]"
     ]
    },
    {
     "name": "stdout",
     "output_type": "stream",
     "text": [
      "epoch 290 iter 2: discloss 4.058037 genloss 4.240001 adv_x 1.403427 recons_x 1.391662 \n"
     ]
    },
    {
     "name": "stderr",
     "output_type": "stream",
     "text": [
      "\r",
      " 97%|█████████▋| 292/300 [07:24<00:12,  1.59s/it]"
     ]
    },
    {
     "name": "stdout",
     "output_type": "stream",
     "text": [
      "epoch 291 iter 2: discloss 4.069435 genloss 4.240788 adv_x 1.402664 recons_x 1.389188 \n"
     ]
    },
    {
     "name": "stderr",
     "output_type": "stream",
     "text": [
      "\r",
      " 98%|█████████▊| 293/300 [07:26<00:11,  1.58s/it]"
     ]
    },
    {
     "name": "stdout",
     "output_type": "stream",
     "text": [
      "epoch 292 iter 2: discloss 4.078953 genloss 4.245849 adv_x 1.410381 recons_x 1.389579 \n"
     ]
    },
    {
     "name": "stderr",
     "output_type": "stream",
     "text": [
      "\r",
      " 98%|█████████▊| 294/300 [07:27<00:09,  1.58s/it]"
     ]
    },
    {
     "name": "stdout",
     "output_type": "stream",
     "text": [
      "epoch 293 iter 2: discloss 4.053638 genloss 4.244790 adv_x 1.415659 recons_x 1.385425 \n"
     ]
    },
    {
     "name": "stderr",
     "output_type": "stream",
     "text": [
      "\r",
      " 98%|█████████▊| 295/300 [07:29<00:07,  1.56s/it]"
     ]
    },
    {
     "name": "stdout",
     "output_type": "stream",
     "text": [
      "epoch 294 iter 2: discloss 4.073757 genloss 4.267544 adv_x 1.428287 recons_x 1.389325 \n"
     ]
    },
    {
     "name": "stderr",
     "output_type": "stream",
     "text": [
      "\r",
      " 99%|█████████▊| 296/300 [07:30<00:06,  1.55s/it]"
     ]
    },
    {
     "name": "stdout",
     "output_type": "stream",
     "text": [
      "epoch 295 iter 2: discloss 4.086186 genloss 4.247549 adv_x 1.417965 recons_x 1.391761 \n"
     ]
    },
    {
     "name": "stderr",
     "output_type": "stream",
     "text": [
      "\r",
      " 99%|█████████▉| 297/300 [07:32<00:04,  1.55s/it]"
     ]
    },
    {
     "name": "stdout",
     "output_type": "stream",
     "text": [
      "epoch 296 iter 2: discloss 4.072352 genloss 4.304792 adv_x 1.425548 recons_x 1.393713 \n"
     ]
    },
    {
     "name": "stderr",
     "output_type": "stream",
     "text": [
      "\r",
      " 99%|█████████▉| 298/300 [07:33<00:03,  1.56s/it]"
     ]
    },
    {
     "name": "stdout",
     "output_type": "stream",
     "text": [
      "epoch 297 iter 2: discloss 4.109787 genloss 4.249367 adv_x 1.368234 recons_x 1.397865 \n"
     ]
    },
    {
     "name": "stderr",
     "output_type": "stream",
     "text": [
      "\r",
      "100%|█████████▉| 299/300 [07:35<00:01,  1.57s/it]"
     ]
    },
    {
     "name": "stdout",
     "output_type": "stream",
     "text": [
      "epoch 298 iter 2: discloss 4.060061 genloss 4.268820 adv_x 1.429680 recons_x 1.387349 \n"
     ]
    },
    {
     "name": "stderr",
     "output_type": "stream",
     "text": [
      "\r",
      "100%|██████████| 300/300 [07:36<00:00,  1.58s/it]"
     ]
    },
    {
     "name": "stdout",
     "output_type": "stream",
     "text": [
      "epoch 299 iter 2: discloss 4.059240 genloss 4.243117 adv_x 1.405190 recons_x 1.386445 \n"
     ]
    },
    {
     "name": "stderr",
     "output_type": "stream",
     "text": [
      "\n"
     ]
    }
   ],
   "source": [
    "\"\"\" training \"\"\"\n",
    "config = tf.ConfigProto()\n",
    "config.gpu_options.per_process_gpu_memory_fraction = 0.1\n",
    "sess = tf.Session(config=config)\n",
    "sess.run(tf.global_variables_initializer())\n",
    "\n",
    "\n",
    "FG = []\n",
    "FD = []\n",
    "\n",
    "for epoch in tqdm( range(n_epoch), total=n_epoch):\n",
    "    X_dataset= shuffle(X_dataset)\n",
    "    Z_dataset= shuffle(Z_dataset)\n",
    "    i = 0\n",
    "    for xmb, zmb in iter_data(X_dataset, Z_dataset, size=batch_size):\n",
    "        i = i + 1\n",
    "        for _ in range(1):\n",
    "            f_d, _ = sess.run([disc_loss, train_disc_op], feed_dict={x: xmb, z:zmb})\n",
    "        for _ in range(5):\n",
    "            f_g, _ = sess.run([[gen_loss, gen_loss_xz, cost_x], train_gen_op], feed_dict={x: xmb, z:zmb})\n",
    "\n",
    "        FG.append(f_g)\n",
    "        FD.append(f_d)\n",
    "\n",
    "    print(\"epoch %d iter %d: discloss %f genloss %f adv_x %f recons_x %f \" % (epoch, i, f_d, f_g[0], f_g[1], f_g[2]))"
   ]
  },
  {
   "cell_type": "markdown",
   "metadata": {},
   "source": [
    "## Test dataset"
   ]
  },
  {
   "cell_type": "code",
   "execution_count": 113,
   "metadata": {
    "collapsed": true
   },
   "outputs": [],
   "source": [
    "datasetX_test = four_five_gaussians(p1=0)\n",
    "save_path_x = result_dir + 'X_4gmm_data_test.png'"
   ]
  },
  {
   "cell_type": "code",
   "execution_count": 114,
   "metadata": {
    "collapsed": true
   },
   "outputs": [],
   "source": [
    "# create X dataset\n",
    "\n",
    "X_np_data_test = datasetX_test.data['samples']\n",
    "X_targets_test = datasetX_test.data['label']"
   ]
  },
  {
   "cell_type": "code",
   "execution_count": 115,
   "metadata": {},
   "outputs": [],
   "source": [
    "\n",
    "X_np_outliers = np.random.uniform(low=X_np_data_test.min(), high=X_np_data_test.max(), size=(N_NOISY,2))#outlier testing size 20\\n\"\n",
    "X_outliers_target = [15]* X_np_outliers.shape[0]\n",
    "X_np_data_test = np.concatenate([X_np_data_test, X_np_outliers], axis=0)\n",
    "X_targets_test = np.concatenate([X_targets_test, X_outliers_target], axis=0)"
   ]
  },
  {
   "cell_type": "markdown",
   "metadata": {},
   "source": [
    "Selecting inliers and outliers"
   ]
  },
  {
   "cell_type": "code",
   "execution_count": 116,
   "metadata": {
    "collapsed": true
   },
   "outputs": [],
   "source": [
    "idx_inliers = X_targets_test <4 \n",
    "idx_outliers = np.logical_not(idx_inliers)"
   ]
  },
  {
   "cell_type": "markdown",
   "metadata": {},
   "source": [
    "Plotting final (cleaned) test dataset"
   ]
  },
  {
   "cell_type": "code",
   "execution_count": 117,
   "metadata": {},
   "outputs": [
    {
     "data": {
      "text/plain": [
       "<Figure size 432x288 with 0 Axes>"
      ]
     },
     "metadata": {},
     "output_type": "display_data"
    },
    {
     "data": {
      "image/png": "[encoded data removed]",
      "text/plain": [
       "<Figure size 324x324 with 1 Axes>"
      ]
     },
     "metadata": {},
     "output_type": "display_data"
    }
   ],
   "source": [
    "plt.clf()\n",
    "fig_mx, ax = plt.subplots(nrows=1, ncols=1, figsize=(4.5, 4.5))\n",
    "ax.scatter(X_np_data_test[idx_inliers, 0], X_np_data_test[idx_inliers, 1], c=cm.tab20(X_targets_test[idx_inliers].astype(float)/15.0),\n",
    "           edgecolor='none', alpha=0.5, label=\"Normal samples\")\n",
    "\n",
    "ax.scatter(X_np_data_test[idx_outliers, 0], X_np_data_test[idx_outliers, 1], c=cm.tab20(X_targets_test[idx_outliers].astype(float)/15),\n",
    "       edgecolor='none', alpha=0.5, label=\"Anomalous samples\", marker='x')\n",
    "\n",
    "ax.set_xlabel('$x_1$'); ax.set_ylabel('$x_2$')\n",
    "ax.axis('on')\n",
    "ax.set_title(\"Test dataset\")\n",
    "ax.legend()\n",
    "plt.savefig(save_path_x, transparent=True, bbox_inches='tight')\n",
    "plt.show()"
   ]
  },
  {
   "cell_type": "markdown",
   "metadata": {},
   "source": [
    "#### Z Test dataset"
   ]
  },
  {
   "cell_type": "code",
   "execution_count": 118,
   "metadata": {},
   "outputs": [
    {
     "data": {
      "image/png": "[encoded data removed]",
      "text/plain": [
       "<Figure size 324x324 with 1 Axes>"
      ]
     },
     "metadata": {},
     "output_type": "display_data"
    }
   ],
   "source": [
    "# create Z dataset\n",
    "\n",
    "datasetZ_test = sample_GMM(X_np_data_test.shape[0], means_z, variances_z, priors_z, sources=('features', ))\n",
    "save_path = result_dir + 'Z_gmm_data_test.png'\n",
    "# plot_GMM(dataset, save_path)\n",
    "\n",
    "Z_np_data_test = datasetZ_test.data['samples']\n",
    "Z_targets_test = datasetZ_test.data['label']\n",
    "\n",
    "fig_mx, ax = plt.subplots(nrows=1, ncols=1, figsize=(4.5, 4.5))\n",
    "ax.scatter(Z_np_data_test[:, 0], Z_np_data_test[:, 1],\n",
    "           edgecolor='none', alpha=0.5)\n",
    "ax.set_xlim(-3, 3); ax.set_ylim(-3.5, 3.5)\n",
    "ax.set_xlabel('$z_1$'); ax.set_ylabel('$z_2$')\n",
    "ax.axis('on')\n",
    "plt.savefig(save_path, transparent=True, bbox_inches='tight')\n",
    "plt.show()"
   ]
  },
  {
   "cell_type": "markdown",
   "metadata": {},
   "source": [
    "### Testing"
   ]
  },
  {
   "cell_type": "code",
   "execution_count": 119,
   "metadata": {},
   "outputs": [
    {
     "name": "stdout",
     "output_type": "stream",
     "text": [
      "[1.3457366 1.383152  1.8212433 ... 0.7033718 0.5848236 2.8382854]\n"
     ]
    }
   ],
   "source": [
    "feed_dict = {x: X_np_data_test, z:Z_np_data_test}\n",
    "imz = sess.run(q_z, feed_dict=feed_dict)\n",
    "rmz = sess.run(rec_z, feed_dict=feed_dict)\n",
    "imx = sess.run(p_x, feed_dict=feed_dict)\n",
    "rmx = sess.run(rec_x, feed_dict=feed_dict)\n",
    "score_dz = sess.run(mahalanobis_dis_z, feed_dict=feed_dict)\n",
    "score_dxx = sess.run(x_sigmoid_real + x_sigmoid_fake, feed_dict=feed_dict)\n",
    "\n",
    "score = score_dz #+ score_dxx\n",
    "score = np.linalg.norm(imz, ord=2, axis=1, keepdims=False)\n",
    "print(score)\n",
    "def zmar(imz):\n",
    "    return np.linalg.norm(imz, ord=2, axis=1, keepdims=False)"
   ]
  },
  {
   "cell_type": "code",
   "execution_count": 120,
   "metadata": {},
   "outputs": [
    {
     "data": {
      "image/png": "[encoded data removed]",
      "text/plain": [
       "<Figure size 324x324 with 1 Axes>"
      ]
     },
     "metadata": {},
     "output_type": "display_data"
    }
   ],
   "source": [
    "## inferred marginal z\n",
    "fig_mz, ax = plt.subplots(nrows=1, ncols=1, figsize=(4.5, 4.5))\n",
    "ll = X_targets_test\n",
    "ax.scatter(imz[:, 0], imz[:, 1], c=cm.tab20(ll.astype(float)/input_dim/3.0),\n",
    "        edgecolor='none', alpha=0.5)\n",
    "#ax.set_xlim(-3, 3); ax.set_ylim(-3.5, 3.5)\n",
    "ax.set_xlabel('$z_1$'); ax.set_ylabel('$z_2$')\n",
    "ax.axis('on')\n",
    "ax.set_title(\"Inferred marginal z\")\n",
    "plt.savefig(result_dir + 'inferred_{}_mz.png'.format(DATASET), transparent=True, bbox_inches='tight')\n",
    "plt.show()"
   ]
  },
  {
   "cell_type": "code",
   "execution_count": 121,
   "metadata": {},
   "outputs": [
    {
     "data": {
      "image/png": "[encoded data removed]",
      "text/plain": [
       "<Figure size 468x360 with 2 Axes>"
      ]
     },
     "metadata": {},
     "output_type": "display_data"
    }
   ],
   "source": [
    "import matplotlib as mpl\n",
    "## discriminator z choice on latent - v3\n",
    "fig_mz, ax = plt.subplots(nrows=1, ncols=1, figsize=(6.5, 5))\n",
    "\n",
    "colors = score#zmar(score)\n",
    "norm = mpl.colors.Normalize(vmin=min(colors), vmax=max(colors))\n",
    "\n",
    "im = ax.scatter(imz[idx_inliers, 0], imz[idx_inliers, 1], c=colors[idx_inliers],\n",
    "        edgecolor='none', alpha=0.5, label=\"Normal samples\", marker='o', norm=norm)\n",
    "\n",
    "im = ax.scatter(imz[idx_outliers, 0], imz[idx_outliers, 1], c=colors[idx_outliers],\n",
    "        edgecolor='none', alpha=0.5, label=\"Anomalous samples\", marker='x', norm=norm)\n",
    "#ax.set_xlim(-3, 3); ax.set_ylim(-3.5, 3.5)\n",
    "ax.set_xlabel('$z_1$'); ax.set_ylabel('$z_2$')\n",
    "fig_mz.colorbar(im)\n",
    "ax.axis('on')\n",
    "plt.axis('equal')\n",
    "ax.set_title(\"Discriminator output in latent space\")\n",
    "plt.savefig(result_dir + 'inferred_{}_mz_disc.png'.format(DATASET), transparent=True, bbox_inches='tight')\n",
    "plt.show()"
   ]
  },
  {
   "cell_type": "code",
   "execution_count": 137,
   "metadata": {},
   "outputs": [
    {
     "data": {
      "image/png": "[encoded data removed]",
      "text/plain": [
       "<Figure size 324x324 with 1 Axes>"
      ]
     },
     "metadata": {},
     "output_type": "display_data"
    }
   ],
   "source": [
    "## discriminator z choice on latent - v2\n",
    "fig_mz, ax = plt.subplots(nrows=1, ncols=1, figsize=(4.5, 4.5))\n",
    "\n",
    "ax.scatter(imz[idx_inliers][:, 0], imz[idx_inliers][:, 1], c='grey',\n",
    "        edgecolor='none', alpha=0.5)\n",
    "ax.scatter(imz[idx_outliers][:, 0], imz[idx_outliers][:, 1], c='r',\n",
    "        edgecolor='none', alpha=0.5, marker='x')\n",
    "#ax.set_xlim(-3, 3); ax.set_ylim(-3.5, 3.5)\n",
    "ax.set_xlabel('$z_1$'); ax.set_ylabel('$z_2$')\n",
    "ax.axis('on')\n",
    "plt.savefig(result_dir + 'inferred_{}_mz.png'.format(DATASET), transparent=True, bbox_inches='tight')\n",
    "plt.show()"
   ]
  },
  {
   "cell_type": "code",
   "execution_count": 138,
   "metadata": {},
   "outputs": [
    {
     "data": {
      "image/png": "[encoded data removed]",
      "text/plain": [
       "<Figure size 324x324 with 1 Axes>"
      ]
     },
     "metadata": {},
     "output_type": "display_data"
    }
   ],
   "source": [
    "##  reconstructed z\n",
    "fig_pz, ax = plt.subplots(nrows=1, ncols=1, figsize=(4.5, 4.5))\n",
    "\n",
    "ax.scatter(rmz[:, 0], rmz[:, 1],\n",
    "           edgecolor='none', alpha=0.5)\n",
    "#ax.set_xlim(-3, 3); ax.set_ylim(-3.5, 3.5)\n",
    "ax.set_xlabel('$z_1$'); ax.set_ylabel('$z_2$')\n",
    "ax.axis('on')\n",
    "ax.set_title('Reconstructed latent space')\n",
    "plt.savefig(result_dir + 'reconstruct_{}_mz.png'.format(DATASET), transparent=True, bbox_inches='tight')\n",
    "plt.show()"
   ]
  },
  {
   "cell_type": "code",
   "execution_count": 139,
   "metadata": {},
   "outputs": [
    {
     "data": {
      "image/png": "[encoded data removed]",
      "text/plain": [
       "<Figure size 324x324 with 1 Axes>"
      ]
     },
     "metadata": {},
     "output_type": "display_data"
    }
   ],
   "source": [
    "## inferred marginal x\n",
    "fig_pz, ax = plt.subplots(nrows=1, ncols=1, figsize=(4.5, 4.5))\n",
    "ax.scatter(imx[:, 0], imx[:, 1],\n",
    "        edgecolor='none', alpha=0.5)\n",
    "#ax.set_xlim(-3, 3); ax.set_ylim(-3.5, 3.5)\n",
    "ax.set_xlabel('$x_1$'); ax.set_ylabel('$x_2$')\n",
    "ax.axis('on')\n",
    "ax.set_title(\"Inferred marginal x\")\n",
    "plt.savefig(result_dir + 'inferred_{}_mx.png'.format(DATASET), transparent=True, bbox_inches='tight')\n",
    "plt.show()"
   ]
  },
  {
   "cell_type": "code",
   "execution_count": 140,
   "metadata": {},
   "outputs": [
    {
     "data": {
      "image/png": "[encoded data removed]",
      "text/plain": [
       "<Figure size 720x324 with 2 Axes>"
      ]
     },
     "metadata": {},
     "output_type": "display_data"
    }
   ],
   "source": [
    "##  reconstructed x\n",
    "fig_mx, ax = plt.subplots(nrows=1, ncols=2, figsize=(10, 4.5))\n",
    "ax[0].scatter(X_np_data_test[idx_inliers, 0], X_np_data_test[idx_inliers, 1], c=cm.tab20(X_targets_test[idx_inliers].astype(float)/input_dim/3.0),\n",
    "           edgecolor='none', alpha=0.5, label=\"Normal samples\")\n",
    "ax[0].scatter(X_np_data_test[idx_outliers, 0], X_np_data_test[idx_outliers, 1], c=cm.tab20(X_targets_test[idx_outliers].astype(float)/input_dim/3.0),\n",
    "           edgecolor='none', alpha=0.5, label=\"Anomalous samples\", marker='x')\n",
    "ax[0].set_xlabel('$x_1$'); ax[0].set_ylabel('$x_2$')\n",
    "ax[0].axis('on')\n",
    "ax[0].set_xlim(-3, 3); ax[0].set_ylim(-3, 3)\n",
    "ax[0].legend()\n",
    "ax[0].set_title(\"Input x\")\n",
    "\n",
    "ax[1].scatter(rmx[idx_inliers, 0], rmx[idx_inliers, 1], c=cm.tab20(X_targets_test[idx_inliers].astype(float)/input_dim/3.0),\n",
    "           edgecolor='none', alpha=0.5, label=\"Normal samples\")\n",
    "ax[1].scatter(rmx[idx_outliers, 0], rmx[idx_outliers, 1], c=cm.tab20(X_targets_test[idx_outliers].astype(float)/input_dim/3.0),\n",
    "           edgecolor='none', alpha=0.5, label=\"Anomalous samples\", marker='x')\n",
    "ax[1].set_xlim(-3, 3); ax[1].set_ylim(-3, 3)\n",
    "ax[1].set_xlabel('$x_1$'); ax[1].set_ylabel('$x_2$')\n",
    "ax[1].axis('on')\n",
    "ax[1].legend()\n",
    "ax[1].set_title(\"Reconstructed x\")\n",
    "plt.savefig(result_dir + 'reconstruct_{}_mx.png'.format(DATASET), transparent=True, bbox_inches='tight')\n",
    "plt.show()"
   ]
  },
  {
   "cell_type": "code",
   "execution_count": 141,
   "metadata": {},
   "outputs": [
    {
     "data": {
      "image/png": "[encoded data removed]",
      "text/plain": [
       "<Figure size 324x324 with 1 Axes>"
      ]
     },
     "metadata": {},
     "output_type": "display_data"
    }
   ],
   "source": [
    "## learning curves\n",
    "fig_curve, ax = plt.subplots(nrows=1, ncols=1, figsize=(4.5, 4.5))\n",
    "ax.plot(FD, label=\"Discriminator\")\n",
    "ax.plot(np.array(FG)[:,0], label=\"Generator\")\n",
    "ax.plot(np.array(FG)[:,1], label=\"Reconstruction x\")\n",
    "ax.plot(np.array(FG)[:,2], label=\"Reconstruction Z\")\n",
    "plt.xlabel('Iteration')\n",
    "plt.xlabel('Loss')\n",
    "ax.legend(bbox_to_anchor=(1.05, 1), loc=2, borderaxespad=0.)\n",
    "ax.axis('on')\n",
    "ax.set_title(\"Learning curves {}\".format(DATASET))\n",
    "plt.savefig(result_dir + 'learning_curves_{}.png'.format(DATASET), bbox_inches='tight')\n",
    "plt.show()"
   ]
  }
 ],
 "metadata": {
  "kernelspec": {
   "display_name": "Python 3",
   "language": "python",
   "name": "python3"
  },
  "language_info": {
   "codemirror_mode": {
    "name": "ipython",
    "version": 3
   },
   "file_extension": ".py",
   "mimetype": "text/x-python",
   "name": "python",
   "nbconvert_exporter": "python",
   "pygments_lexer": "ipython3",
   "version": "3.6.7"
  }
 },
 "nbformat": 4,
 "nbformat_minor": 2
}
